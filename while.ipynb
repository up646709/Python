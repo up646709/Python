{
 "cells": [
  {
   "cell_type": "code",
   "execution_count": 1,
   "id": "e80533c7-4e6b-44e8-aaac-021e458f1243",
   "metadata": {},
   "outputs": [
    {
     "name": "stdout",
     "output_type": "stream",
     "text": [
      "1\n",
      "2\n",
      "3\n",
      "4\n",
      "5\n",
      "6\n",
      "7\n",
      "8\n",
      "9\n",
      "10\n"
     ]
    }
   ],
   "source": [
    "a = 1\n",
    "while a<= 10 :\n",
    "    print(a)\n",
    "    a = a + 1"
   ]
  },
  {
   "cell_type": "code",
   "execution_count": 2,
   "id": "305be5e7-0968-4191-88c7-34c1cd6f12fe",
   "metadata": {},
   "outputs": [],
   "source": [
    "# sum of the number till some point"
   ]
  },
  {
   "cell_type": "code",
   "execution_count": 5,
   "id": "30ce8489-2ba2-4461-aa65-b08dfd7f412e",
   "metadata": {},
   "outputs": [
    {
     "name": "stdin",
     "output_type": "stream",
     "text": [
      "Enter your limit 5\n"
     ]
    },
    {
     "data": {
      "text/plain": [
       "15"
      ]
     },
     "execution_count": 5,
     "metadata": {},
     "output_type": "execute_result"
    }
   ],
   "source": [
    "n = int(input(\"Enter your limit\"))\n",
    "starting_point = 0\n",
    "counter = 1\n",
    "while counter <= n :\n",
    "    starting_point = starting_point + counter\n",
    "    counter  = counter + 1\n",
    "starting_point   \n",
    "    "
   ]
  },
  {
   "cell_type": "code",
   "execution_count": 2,
   "id": "6eb2e89a-16c5-4f7c-b70c-7b558ac7e127",
   "metadata": {},
   "outputs": [
    {
     "name": "stdin",
     "output_type": "stream",
     "text": [
      "Enter your number 3\n"
     ]
    },
    {
     "data": {
      "text/plain": [
       "6"
      ]
     },
     "execution_count": 2,
     "metadata": {},
     "output_type": "execute_result"
    }
   ],
   "source": [
    "number = int(input(\"Enter your number\"))\n",
    "factorial = 1\n",
    "while number > 0 :\n",
    "    factorial = factorial * number\n",
    "    number = number-1\n",
    "factorial    "
   ]
  },
  {
   "cell_type": "code",
   "execution_count": 3,
   "id": "c48ec642-0f9b-4cad-90e3-1fdb231e1e78",
   "metadata": {},
   "outputs": [],
   "source": [
    "#fibonancci serise"
   ]
  },
  {
   "cell_type": "code",
   "execution_count": 4,
   "id": "439204e2-5817-41c7-b3d3-808208f7ef31",
   "metadata": {},
   "outputs": [
    {
     "name": "stdin",
     "output_type": "stream",
     "text": [
      "Enter the number of element you are looking for 10\n"
     ]
    },
    {
     "name": "stdout",
     "output_type": "stream",
     "text": [
      "0\n",
      "1\n",
      "1\n",
      "2\n",
      "3\n",
      "5\n",
      "8\n",
      "13\n",
      "21\n",
      "34\n"
     ]
    }
   ],
   "source": [
    "number = int(input(\"Enter the number of element you are looking for\"))\n",
    "a , b = 0, 1\n",
    "counter = 0\n",
    "while counter < number :\n",
    "    print(a)\n",
    "    c = a+b\n",
    "    a = b\n",
    "    b = c\n",
    "    counter = counter + 1\n",
    "    "
   ]
  },
  {
   "cell_type": "code",
   "execution_count": 5,
   "id": "ef7b73a9-6c3e-40b0-9b32-56b2b622ff07",
   "metadata": {},
   "outputs": [
    {
     "name": "stdout",
     "output_type": "stream",
     "text": [
      "0\n",
      "1\n",
      "1\n",
      "2\n",
      "3\n",
      "5\n",
      "8\n",
      "13\n",
      "21\n",
      "34\n"
     ]
    }
   ],
   "source": [
    "a , b = 0, 1\n",
    "for i in range(10) :\n",
    "    print(a)\n",
    "    c= a +b\n",
    "    a = b\n",
    "    b = c"
   ]
  },
  {
   "cell_type": "code",
   "execution_count": 6,
   "id": "8ce84569-9b0a-4a24-a4c4-49ad7b4b20f6",
   "metadata": {},
   "outputs": [],
   "source": [
    "s = \"upnd\""
   ]
  },
  {
   "cell_type": "code",
   "execution_count": 7,
   "id": "46e394e8-e4a9-4cfe-8d11-655d530021f6",
   "metadata": {},
   "outputs": [
    {
     "data": {
      "text/plain": [
       "'dnpu'"
      ]
     },
     "execution_count": 7,
     "metadata": {},
     "output_type": "execute_result"
    }
   ],
   "source": [
    "s[::-1]"
   ]
  },
  {
   "cell_type": "code",
   "execution_count": 9,
   "id": "2ea5d0e7-ccb6-47e4-a656-d35ec25167d3",
   "metadata": {},
   "outputs": [
    {
     "name": "stdin",
     "output_type": "stream",
     "text": [
      "Enter the your string reversal upend\n"
     ]
    }
   ],
   "source": [
    " word = input(\"Enter the your string reversal\")"
   ]
  },
  {
   "cell_type": "code",
   "execution_count": 10,
   "id": "e206975c-6386-4fb2-9464-2ac25a013b11",
   "metadata": {},
   "outputs": [
    {
     "name": "stdout",
     "output_type": "stream",
     "text": [
      "dnepu\n"
     ]
    }
   ],
   "source": [
    "reverse = \"\"\n",
    "length = len(word)\n",
    "while length > 0 :\n",
    "    reverse = reverse + word[length - 1]\n",
    "    length = length - 1\n",
    "print(reverse)    \n",
    "    "
   ]
  },
  {
   "cell_type": "code",
   "execution_count": 11,
   "id": "865d51ec-ddbf-459b-be70-77b1190a5f99",
   "metadata": {},
   "outputs": [],
   "source": [
    "# print table of number"
   ]
  },
  {
   "cell_type": "code",
   "execution_count": 15,
   "id": "3b1fab80-025e-4830-8bb8-4b2975f97d52",
   "metadata": {},
   "outputs": [
    {
     "name": "stdin",
     "output_type": "stream",
     "text": [
      "Enter your number 14\n"
     ]
    },
    {
     "name": "stdout",
     "output_type": "stream",
     "text": [
      "14 * 1 =  14\n",
      "14 * 2 =  28\n",
      "14 * 3 =  42\n",
      "14 * 4 =  56\n",
      "14 * 5 =  70\n",
      "14 * 6 =  84\n",
      "14 * 7 =  98\n",
      "14 * 8 =  112\n",
      "14 * 9 =  126\n",
      "14 * 10 =  140\n"
     ]
    }
   ],
   "source": [
    "n = int(input(\"Enter your number\"))\n",
    "i = 1\n",
    "while i <= 10 :\n",
    "    result  = n * i\n",
    "    print(n, \"*\" , i , \"= \" , result)\n",
    "    i = i +1\n",
    "    "
   ]
  },
  {
   "cell_type": "code",
   "execution_count": 17,
   "id": "42173a24-4631-499c-b6b5-8cf1fbaf8905",
   "metadata": {},
   "outputs": [
    {
     "name": "stdout",
     "output_type": "stream",
     "text": [
      "1\n",
      "2\n",
      "3\n",
      "4\n",
      "This will be executed once your while will complete is succesfully\n"
     ]
    }
   ],
   "source": [
    "n = 5\n",
    "i =1\n",
    "while i < n :\n",
    "    print(i)\n",
    "    i = i + 1\n",
    "else : \n",
    "    print(\"This will be executed once your while will complete is succesfully\")"
   ]
  },
  {
   "cell_type": "code",
   "execution_count": null,
   "id": "2107dba2-47f0-4e2b-92ca-805f03f15c6c",
   "metadata": {},
   "outputs": [],
   "source": []
  }
 ],
 "metadata": {
  "kernelspec": {
   "display_name": "Python 3 (ipykernel)",
   "language": "python",
   "name": "python3"
  },
  "language_info": {
   "codemirror_mode": {
    "name": "ipython",
    "version": 3
   },
   "file_extension": ".py",
   "mimetype": "text/x-python",
   "name": "python",
   "nbconvert_exporter": "python",
   "pygments_lexer": "ipython3",
   "version": "3.10.6"
  }
 },
 "nbformat": 4,
 "nbformat_minor": 5
}
