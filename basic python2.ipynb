{
 "cells": [
  {
   "cell_type": "code",
   "execution_count": 1,
   "id": "508e8ed3-bd9d-4f06-ba78-f7f0e052c86b",
   "metadata": {},
   "outputs": [],
   "source": [
    "l = [2,3,4,5,6,7,\"upendra\", True,56.7, 5+6j]"
   ]
  },
  {
   "cell_type": "code",
   "execution_count": 2,
   "id": "1b11d589-b484-45e1-a559-286a90b68745",
   "metadata": {},
   "outputs": [
    {
     "data": {
      "text/plain": [
       "list"
      ]
     },
     "execution_count": 2,
     "metadata": {},
     "output_type": "execute_result"
    }
   ],
   "source": [
    "type(l)"
   ]
  },
  {
   "cell_type": "code",
   "execution_count": 3,
   "id": "4ff3e507-0893-40ce-9fd5-f5fe6cb7a36c",
   "metadata": {},
   "outputs": [
    {
     "data": {
      "text/plain": [
       "2"
      ]
     },
     "execution_count": 3,
     "metadata": {},
     "output_type": "execute_result"
    }
   ],
   "source": [
    "l[0]"
   ]
  },
  {
   "cell_type": "code",
   "execution_count": 4,
   "id": "c9d7ed75-7bb5-4655-9c15-14433d68bb2c",
   "metadata": {},
   "outputs": [
    {
     "data": {
      "text/plain": [
       "[2, 3, 4, 5]"
      ]
     },
     "execution_count": 4,
     "metadata": {},
     "output_type": "execute_result"
    }
   ],
   "source": [
    "l[0:4]"
   ]
  },
  {
   "cell_type": "code",
   "execution_count": 5,
   "id": "55b4922b-e085-4602-a342-c59d8dce62a8",
   "metadata": {},
   "outputs": [
    {
     "data": {
      "text/plain": [
       "'upendra'"
      ]
     },
     "execution_count": 5,
     "metadata": {},
     "output_type": "execute_result"
    }
   ],
   "source": [
    "l[6]"
   ]
  },
  {
   "cell_type": "code",
   "execution_count": 6,
   "id": "1a27d664-fe75-457a-a6fc-cb79fd668ef2",
   "metadata": {},
   "outputs": [
    {
     "ename": "IndexError",
     "evalue": "list index out of range",
     "output_type": "error",
     "traceback": [
      "\u001b[0;31m---------------------------------------------------------------------------\u001b[0m",
      "\u001b[0;31mIndexError\u001b[0m                                Traceback (most recent call last)",
      "Cell \u001b[0;32mIn [6], line 1\u001b[0m\n\u001b[0;32m----> 1\u001b[0m \u001b[43ml\u001b[49m\u001b[43m[\u001b[49m\u001b[38;5;241;43m90\u001b[39;49m\u001b[43m]\u001b[49m\n",
      "\u001b[0;31mIndexError\u001b[0m: list index out of range"
     ]
    }
   ],
   "source": [
    "l[90]"
   ]
  },
  {
   "cell_type": "code",
   "execution_count": 7,
   "id": "6f5516ca-3ae6-4ad3-86f2-655794edb384",
   "metadata": {},
   "outputs": [
    {
     "data": {
      "text/plain": [
       "[2, 3, 4, 5, 6, 7, 'upendra', True, 56.7, (5+6j)]"
      ]
     },
     "execution_count": 7,
     "metadata": {},
     "output_type": "execute_result"
    }
   ],
   "source": [
    "l"
   ]
  },
  {
   "cell_type": "code",
   "execution_count": 8,
   "id": "8276cf5d-6f04-47af-9b74-85bc3aa77923",
   "metadata": {},
   "outputs": [
    {
     "data": {
      "text/plain": [
       "[2, 3, 4]"
      ]
     },
     "execution_count": 8,
     "metadata": {},
     "output_type": "execute_result"
    }
   ],
   "source": [
    "l[0:3]"
   ]
  },
  {
   "cell_type": "code",
   "execution_count": 9,
   "id": "d91b4e2b-5ef9-4440-b13a-8522537304e4",
   "metadata": {},
   "outputs": [
    {
     "data": {
      "text/plain": [
       "(5+6j)"
      ]
     },
     "execution_count": 9,
     "metadata": {},
     "output_type": "execute_result"
    }
   ],
   "source": [
    "l[-1]"
   ]
  },
  {
   "cell_type": "code",
   "execution_count": 10,
   "id": "ddf3c33b-4732-4193-89e4-8802ea46bf78",
   "metadata": {},
   "outputs": [
    {
     "data": {
      "text/plain": [
       "[(5+6j), 56.7, True, 'upendra', 7, 6, 5, 4, 3, 2]"
      ]
     },
     "execution_count": 10,
     "metadata": {},
     "output_type": "execute_result"
    }
   ],
   "source": [
    "l[::-1]"
   ]
  },
  {
   "cell_type": "code",
   "execution_count": 11,
   "id": "8edd1420-be18-44ea-9dda-d28a4580a53c",
   "metadata": {},
   "outputs": [
    {
     "data": {
      "text/plain": [
       "[2, 4, 6, 'upendra', 56.7]"
      ]
     },
     "execution_count": 11,
     "metadata": {},
     "output_type": "execute_result"
    }
   ],
   "source": [
    "l[0:11:2]"
   ]
  },
  {
   "cell_type": "code",
   "execution_count": 12,
   "id": "2f29eaf0-8253-4cd6-84e8-0803ab608098",
   "metadata": {},
   "outputs": [
    {
     "data": {
      "text/plain": [
       "[2, 4, 6, 'upendra', 56.7]"
      ]
     },
     "execution_count": 12,
     "metadata": {},
     "output_type": "execute_result"
    }
   ],
   "source": [
    "l[::2]"
   ]
  },
  {
   "cell_type": "code",
   "execution_count": 13,
   "id": "d48f0fdb-a2f9-4264-8273-bf9de832fc55",
   "metadata": {},
   "outputs": [],
   "source": [
    " s = \"pwskills\""
   ]
  },
  {
   "cell_type": "code",
   "execution_count": 14,
   "id": "205b1f61-eabb-416d-b0b1-6f441df50328",
   "metadata": {},
   "outputs": [
    {
     "data": {
      "text/plain": [
       "'pwskills'"
      ]
     },
     "execution_count": 14,
     "metadata": {},
     "output_type": "execute_result"
    }
   ],
   "source": [
    "s"
   ]
  },
  {
   "cell_type": "code",
   "execution_count": 16,
   "id": "91c09948-8139-4bbf-aee2-f3bdf468e151",
   "metadata": {},
   "outputs": [
    {
     "data": {
      "text/plain": [
       "['p',\n",
       " 'w',\n",
       " 's',\n",
       " 'k',\n",
       " 'i',\n",
       " 'l',\n",
       " 'l',\n",
       " 's',\n",
       " 2,\n",
       " 3,\n",
       " 4,\n",
       " 5,\n",
       " 6,\n",
       " 7,\n",
       " 'upendra',\n",
       " True,\n",
       " 56.7,\n",
       " (5+6j)]"
      ]
     },
     "execution_count": 16,
     "metadata": {},
     "output_type": "execute_result"
    }
   ],
   "source": [
    "list(s) + l"
   ]
  },
  {
   "cell_type": "code",
   "execution_count": 17,
   "id": "a240add5-3096-4fd0-8f49-f3b0e804c876",
   "metadata": {},
   "outputs": [
    {
     "data": {
      "text/plain": [
       "[2, 3, 4, 5, 6, 7, 'upendra', True, 56.7, (5+6j)]"
      ]
     },
     "execution_count": 17,
     "metadata": {},
     "output_type": "execute_result"
    }
   ],
   "source": [
    "l"
   ]
  },
  {
   "cell_type": "code",
   "execution_count": 18,
   "id": "58fa043d-5162-4ca2-b4cf-1f42bbfceda1",
   "metadata": {},
   "outputs": [
    {
     "data": {
      "text/plain": [
       "'upendra'"
      ]
     },
     "execution_count": 18,
     "metadata": {},
     "output_type": "execute_result"
    }
   ],
   "source": [
    "l[6]"
   ]
  },
  {
   "cell_type": "code",
   "execution_count": 19,
   "id": "17c3ffd3-ce33-43e9-8564-b8fcbda06962",
   "metadata": {},
   "outputs": [
    {
     "data": {
      "text/plain": [
       "'up'"
      ]
     },
     "execution_count": 19,
     "metadata": {},
     "output_type": "execute_result"
    }
   ],
   "source": [
    "l[6][0:2]"
   ]
  },
  {
   "cell_type": "code",
   "execution_count": 20,
   "id": "2c41431e-7094-4946-95a8-abf170e6c6c3",
   "metadata": {},
   "outputs": [
    {
     "data": {
      "text/plain": [
       "True"
      ]
     },
     "execution_count": 20,
     "metadata": {},
     "output_type": "execute_result"
    }
   ],
   "source": [
    "l[7]"
   ]
  },
  {
   "cell_type": "code",
   "execution_count": 23,
   "id": "77ad864f-b70d-4f2e-993b-8a716019b375",
   "metadata": {},
   "outputs": [
    {
     "data": {
      "text/plain": [
       "'Tr'"
      ]
     },
     "execution_count": 23,
     "metadata": {},
     "output_type": "execute_result"
    }
   ],
   "source": [
    "str(l[7])[0:2]"
   ]
  },
  {
   "cell_type": "code",
   "execution_count": 24,
   "id": "d12f12ed-b420-4c3c-9e26-892f464bfdef",
   "metadata": {},
   "outputs": [],
   "source": [
    "l1 = [2,3,4]"
   ]
  },
  {
   "cell_type": "code",
   "execution_count": 25,
   "id": "42e2936c-0da2-44ca-be90-35d97ffede76",
   "metadata": {},
   "outputs": [
    {
     "data": {
      "text/plain": [
       "[2, 3, 4]"
      ]
     },
     "execution_count": 25,
     "metadata": {},
     "output_type": "execute_result"
    }
   ],
   "source": [
    "l1"
   ]
  },
  {
   "cell_type": "code",
   "execution_count": 6,
   "id": "ab8b7a80-b2cd-4546-94df-c898ac74b79e",
   "metadata": {},
   "outputs": [
    {
     "ename": "NameError",
     "evalue": "name 'l' is not defined",
     "output_type": "error",
     "traceback": [
      "\u001b[0;31m---------------------------------------------------------------------------\u001b[0m",
      "\u001b[0;31mNameError\u001b[0m                                 Traceback (most recent call last)",
      "Cell \u001b[0;32mIn [6], line 1\u001b[0m\n\u001b[0;32m----> 1\u001b[0m \u001b[43ml\u001b[49m \u001b[38;5;241m+\u001b[39m l1\n",
      "\u001b[0;31mNameError\u001b[0m: name 'l' is not defined"
     ]
    }
   ],
   "source": [
    "l + l1"
   ]
  },
  {
   "cell_type": "code",
   "execution_count": 7,
   "id": "e4ff4807-090d-499f-a434-26b701452fc5",
   "metadata": {},
   "outputs": [],
   "source": [
    "l = [1,234,45,'upen',True, 5+6j,567.89]"
   ]
  },
  {
   "cell_type": "code",
   "execution_count": 8,
   "id": "5f544ad5-1499-4939-b497-8a69cd062bff",
   "metadata": {},
   "outputs": [
    {
     "data": {
      "text/plain": [
       "[1, 234, 45, 'upen', True, (5+6j), 567.89]"
      ]
     },
     "execution_count": 8,
     "metadata": {},
     "output_type": "execute_result"
    }
   ],
   "source": [
    "l"
   ]
  },
  {
   "cell_type": "code",
   "execution_count": 9,
   "id": "eb27060a-d277-43df-b476-ecbd19b5c343",
   "metadata": {},
   "outputs": [],
   "source": [
    "l.append(5)"
   ]
  },
  {
   "cell_type": "code",
   "execution_count": 10,
   "id": "73304d52-27aa-4ec3-bbea-9e9c880684c4",
   "metadata": {},
   "outputs": [
    {
     "data": {
      "text/plain": [
       "[1, 234, 45, 'upen', True, (5+6j), 567.89, 5]"
      ]
     },
     "execution_count": 10,
     "metadata": {},
     "output_type": "execute_result"
    }
   ],
   "source": [
    "l"
   ]
  },
  {
   "cell_type": "code",
   "execution_count": 11,
   "id": "479237e4-f625-48a0-87d9-d6f2fde11620",
   "metadata": {},
   "outputs": [],
   "source": [
    "s= \"pwskills\""
   ]
  },
  {
   "cell_type": "code",
   "execution_count": 12,
   "id": "17619900-7836-41ea-9a0f-b4855f75562d",
   "metadata": {},
   "outputs": [
    {
     "data": {
      "text/plain": [
       "'pwskills'"
      ]
     },
     "execution_count": 12,
     "metadata": {},
     "output_type": "execute_result"
    }
   ],
   "source": [
    "s"
   ]
  },
  {
   "cell_type": "code",
   "execution_count": 13,
   "id": "44b1c1e1-40e9-447a-bc9d-e2099e8f0358",
   "metadata": {},
   "outputs": [],
   "source": [
    "l.append(s)"
   ]
  },
  {
   "cell_type": "code",
   "execution_count": 14,
   "id": "c8f0e21d-2420-4440-87f0-f576dcd7ad9f",
   "metadata": {},
   "outputs": [
    {
     "data": {
      "text/plain": [
       "[1, 234, 45, 'upen', True, (5+6j), 567.89, 5, 'pwskills']"
      ]
     },
     "execution_count": 14,
     "metadata": {},
     "output_type": "execute_result"
    }
   ],
   "source": [
    "l"
   ]
  },
  {
   "cell_type": "code",
   "execution_count": 15,
   "id": "54f163e9-d3b1-4b56-9ed6-59cc2391a09d",
   "metadata": {},
   "outputs": [],
   "source": [
    "l1 = [2,34,5]"
   ]
  },
  {
   "cell_type": "code",
   "execution_count": 16,
   "id": "e8a83a7f-489b-4050-9b29-8427fa0abd65",
   "metadata": {},
   "outputs": [],
   "source": [
    "l.append(l1)"
   ]
  },
  {
   "cell_type": "code",
   "execution_count": 17,
   "id": "4405585d-7082-4370-a484-5ccf85720aaa",
   "metadata": {},
   "outputs": [
    {
     "data": {
      "text/plain": [
       "[1, 234, 45, 'upen', True, (5+6j), 567.89, 5, 'pwskills', [2, 34, 5]]"
      ]
     },
     "execution_count": 17,
     "metadata": {},
     "output_type": "execute_result"
    }
   ],
   "source": [
    "l"
   ]
  },
  {
   "cell_type": "code",
   "execution_count": 18,
   "id": "f43ddd87-a3a8-4dd8-b01c-e5d6c4d80a4f",
   "metadata": {},
   "outputs": [
    {
     "data": {
      "text/plain": [
       "[2, 34, 5]"
      ]
     },
     "execution_count": 18,
     "metadata": {},
     "output_type": "execute_result"
    }
   ],
   "source": [
    "l[-1]"
   ]
  },
  {
   "cell_type": "code",
   "execution_count": 19,
   "id": "7a695dd4-6c1d-4b8c-8bb0-3cb6fba55eb5",
   "metadata": {},
   "outputs": [
    {
     "data": {
      "text/plain": [
       "34"
      ]
     },
     "execution_count": 19,
     "metadata": {},
     "output_type": "execute_result"
    }
   ],
   "source": [
    "l[-1][1]"
   ]
  },
  {
   "cell_type": "code",
   "execution_count": 20,
   "id": "0d1a02f8-e821-49b9-89b0-cf41c086d749",
   "metadata": {},
   "outputs": [
    {
     "data": {
      "text/plain": [
       "[1, 234, 45, 'upen', True, (5+6j), 567.89, 5, 'pwskills', [2, 34, 5]]"
      ]
     },
     "execution_count": 20,
     "metadata": {},
     "output_type": "execute_result"
    }
   ],
   "source": [
    "l"
   ]
  },
  {
   "cell_type": "code",
   "execution_count": 23,
   "id": "4a523931-46fc-4ec3-9a99-fb118696cd49",
   "metadata": {},
   "outputs": [
    {
     "ename": "TypeError",
     "evalue": "'int' object is not iterable",
     "output_type": "error",
     "traceback": [
      "\u001b[0;31m---------------------------------------------------------------------------\u001b[0m",
      "\u001b[0;31mTypeError\u001b[0m                                 Traceback (most recent call last)",
      "Cell \u001b[0;32mIn [23], line 1\u001b[0m\n\u001b[0;32m----> 1\u001b[0m \u001b[43ml\u001b[49m\u001b[38;5;241;43m.\u001b[39;49m\u001b[43mextend\u001b[49m\u001b[43m(\u001b[49m\u001b[38;5;241;43m3\u001b[39;49m\u001b[43m)\u001b[49m\n",
      "\u001b[0;31mTypeError\u001b[0m: 'int' object is not iterable"
     ]
    }
   ],
   "source": [
    "l.extend(3)"
   ]
  },
  {
   "cell_type": "code",
   "execution_count": 24,
   "id": "93bc214d-ab2f-4ff1-93ed-297c9e3ddd81",
   "metadata": {},
   "outputs": [],
   "source": [
    "l.extend(\"upendra\")"
   ]
  },
  {
   "cell_type": "code",
   "execution_count": 25,
   "id": "8b06a505-acf4-4642-8c4c-b9d3c8a26a76",
   "metadata": {},
   "outputs": [
    {
     "data": {
      "text/plain": [
       "[1,\n",
       " 234,\n",
       " 45,\n",
       " 'upen',\n",
       " True,\n",
       " (5+6j),\n",
       " 567.89,\n",
       " 5,\n",
       " 'pwskills',\n",
       " [2, 34, 5],\n",
       " 'u',\n",
       " 'p',\n",
       " 'e',\n",
       " 'n',\n",
       " 'd',\n",
       " 'r',\n",
       " 'a']"
      ]
     },
     "execution_count": 25,
     "metadata": {},
     "output_type": "execute_result"
    }
   ],
   "source": [
    "l"
   ]
  },
  {
   "cell_type": "code",
   "execution_count": 26,
   "id": "0930edf8-4e8d-427a-8aaa-1d2b307589e6",
   "metadata": {},
   "outputs": [],
   "source": [
    "l.extend([2,3,4])"
   ]
  },
  {
   "cell_type": "code",
   "execution_count": 27,
   "id": "dbe8f52f-9e82-4238-8895-59dc1a89a70f",
   "metadata": {},
   "outputs": [
    {
     "data": {
      "text/plain": [
       "[1,\n",
       " 234,\n",
       " 45,\n",
       " 'upen',\n",
       " True,\n",
       " (5+6j),\n",
       " 567.89,\n",
       " 5,\n",
       " 'pwskills',\n",
       " [2, 34, 5],\n",
       " 'u',\n",
       " 'p',\n",
       " 'e',\n",
       " 'n',\n",
       " 'd',\n",
       " 'r',\n",
       " 'a',\n",
       " 2,\n",
       " 3,\n",
       " 4]"
      ]
     },
     "execution_count": 27,
     "metadata": {},
     "output_type": "execute_result"
    }
   ],
   "source": [
    "l"
   ]
  },
  {
   "cell_type": "code",
   "execution_count": 28,
   "id": "5815ac88-6e3b-4543-bb5c-41d452b38adf",
   "metadata": {},
   "outputs": [
    {
     "data": {
      "text/plain": [
       "[2, 34, 5]"
      ]
     },
     "execution_count": 28,
     "metadata": {},
     "output_type": "execute_result"
    }
   ],
   "source": [
    "l1"
   ]
  },
  {
   "cell_type": "code",
   "execution_count": 30,
   "id": "1fc7d007-c846-409d-a5e4-a1b830f656fe",
   "metadata": {},
   "outputs": [],
   "source": [
    "l1.insert(1, \"upendra\")"
   ]
  },
  {
   "cell_type": "code",
   "execution_count": 31,
   "id": "7c6f8a5f-a444-4638-bc7b-540bca55eb91",
   "metadata": {},
   "outputs": [
    {
     "data": {
      "text/plain": [
       "[2, 'upendra', 34, 5]"
      ]
     },
     "execution_count": 31,
     "metadata": {},
     "output_type": "execute_result"
    }
   ],
   "source": [
    "l1"
   ]
  },
  {
   "cell_type": "code",
   "execution_count": 32,
   "id": "68df570c-be33-40e1-8f67-17654457a13c",
   "metadata": {},
   "outputs": [],
   "source": [
    "l1.insert(3,56)"
   ]
  },
  {
   "cell_type": "code",
   "execution_count": 33,
   "id": "ae2f5d1b-d4ea-4819-8067-6410a7237db4",
   "metadata": {},
   "outputs": [
    {
     "data": {
      "text/plain": [
       "[2, 'upendra', 34, 56, 5]"
      ]
     },
     "execution_count": 33,
     "metadata": {},
     "output_type": "execute_result"
    }
   ],
   "source": [
    "l1"
   ]
  },
  {
   "cell_type": "code",
   "execution_count": 1,
   "id": "5f1d9982-be21-442e-a047-1c01ff371363",
   "metadata": {},
   "outputs": [],
   "source": [
    "l1 = [2,3,4]"
   ]
  },
  {
   "cell_type": "code",
   "execution_count": 2,
   "id": "d9b97909-2cbb-49e4-9471-8edf974f8b20",
   "metadata": {},
   "outputs": [
    {
     "data": {
      "text/plain": [
       "[2, 3, 4]"
      ]
     },
     "execution_count": 2,
     "metadata": {},
     "output_type": "execute_result"
    }
   ],
   "source": [
    "l1"
   ]
  },
  {
   "cell_type": "code",
   "execution_count": 3,
   "id": "be7f9b14-947f-45ae-87fd-9334733f20c8",
   "metadata": {},
   "outputs": [],
   "source": [
    "l = [1,234,45,'upen',True, 5+6j,567.89]"
   ]
  },
  {
   "cell_type": "code",
   "execution_count": 4,
   "id": "4878976c-0580-4186-bf4a-163ddde31f40",
   "metadata": {},
   "outputs": [
    {
     "data": {
      "text/plain": [
       "[1, 234, 45, 'upen', True, (5+6j), 567.89]"
      ]
     },
     "execution_count": 4,
     "metadata": {},
     "output_type": "execute_result"
    }
   ],
   "source": [
    "l\n"
   ]
  },
  {
   "cell_type": "code",
   "execution_count": 5,
   "id": "07969352-db85-4721-8f24-abf0b086f178",
   "metadata": {},
   "outputs": [],
   "source": [
    "l.append(l1)"
   ]
  },
  {
   "cell_type": "code",
   "execution_count": 6,
   "id": "227fa070-5b6e-4aef-988b-70f5918ccfde",
   "metadata": {},
   "outputs": [
    {
     "data": {
      "text/plain": [
       "[1, 234, 45, 'upen', True, (5+6j), 567.89, [2, 3, 4]]"
      ]
     },
     "execution_count": 6,
     "metadata": {},
     "output_type": "execute_result"
    }
   ],
   "source": [
    "l"
   ]
  },
  {
   "cell_type": "code",
   "execution_count": 7,
   "id": "0aa99971-1abc-4a5d-9892-3a49206c812a",
   "metadata": {},
   "outputs": [
    {
     "data": {
      "text/plain": [
       "[2, 3, 4]"
      ]
     },
     "execution_count": 7,
     "metadata": {},
     "output_type": "execute_result"
    }
   ],
   "source": [
    "l[-1]"
   ]
  },
  {
   "cell_type": "code",
   "execution_count": 8,
   "id": "cb201d77-b43f-458e-9605-c55f29f47940",
   "metadata": {},
   "outputs": [
    {
     "data": {
      "text/plain": [
       "3"
      ]
     },
     "execution_count": 8,
     "metadata": {},
     "output_type": "execute_result"
    }
   ],
   "source": [
    "l[-1][1]"
   ]
  },
  {
   "cell_type": "code",
   "execution_count": 9,
   "id": "8f267ba1-d0cd-4759-8b06-e2acf630228d",
   "metadata": {},
   "outputs": [
    {
     "ename": "TypeError",
     "evalue": "'int' object is not iterable",
     "output_type": "error",
     "traceback": [
      "\u001b[0;31m---------------------------------------------------------------------------\u001b[0m",
      "\u001b[0;31mTypeError\u001b[0m                                 Traceback (most recent call last)",
      "Cell \u001b[0;32mIn [9], line 1\u001b[0m\n\u001b[0;32m----> 1\u001b[0m \u001b[43ml\u001b[49m\u001b[38;5;241;43m.\u001b[39;49m\u001b[43mextend\u001b[49m\u001b[43m(\u001b[49m\u001b[38;5;241;43m2\u001b[39;49m\u001b[43m)\u001b[49m\n",
      "\u001b[0;31mTypeError\u001b[0m: 'int' object is not iterable"
     ]
    }
   ],
   "source": [
    "l.extend(2)"
   ]
  },
  {
   "cell_type": "code",
   "execution_count": 10,
   "id": "1839a200-07f7-4c08-a4a0-ed9f496569a3",
   "metadata": {},
   "outputs": [],
   "source": [
    "l.extend(\"Up\")"
   ]
  },
  {
   "cell_type": "code",
   "execution_count": 11,
   "id": "3702f511-d42e-47ee-8309-f6d9129aa1de",
   "metadata": {},
   "outputs": [
    {
     "data": {
      "text/plain": [
       "[1, 234, 45, 'upen', True, (5+6j), 567.89, [2, 3, 4], 'U', 'p']"
      ]
     },
     "execution_count": 11,
     "metadata": {},
     "output_type": "execute_result"
    }
   ],
   "source": [
    "l"
   ]
  },
  {
   "cell_type": "code",
   "execution_count": 12,
   "id": "6df0d20a-27cf-4588-a538-e2fa80369cac",
   "metadata": {},
   "outputs": [],
   "source": [
    "l.extend([4,5,6])"
   ]
  },
  {
   "cell_type": "code",
   "execution_count": 13,
   "id": "687d3e5c-5d6b-4fce-945a-0bc90e2c3649",
   "metadata": {},
   "outputs": [
    {
     "data": {
      "text/plain": [
       "[1, 234, 45, 'upen', True, (5+6j), 567.89, [2, 3, 4], 'U', 'p', 4, 5, 6]"
      ]
     },
     "execution_count": 13,
     "metadata": {},
     "output_type": "execute_result"
    }
   ],
   "source": [
    "l"
   ]
  },
  {
   "cell_type": "code",
   "execution_count": 14,
   "id": "cf946585-044e-4db6-9bb5-243fe6a4c254",
   "metadata": {},
   "outputs": [
    {
     "data": {
      "text/plain": [
       "[2, 3, 4]"
      ]
     },
     "execution_count": 14,
     "metadata": {},
     "output_type": "execute_result"
    }
   ],
   "source": [
    "l1"
   ]
  },
  {
   "cell_type": "code",
   "execution_count": 16,
   "id": "861b9729-87bc-4e83-8666-96d858143b98",
   "metadata": {},
   "outputs": [],
   "source": [
    "l1.insert(0,67)"
   ]
  },
  {
   "cell_type": "code",
   "execution_count": 17,
   "id": "0dff187c-9110-4ebe-8889-7ec6687772b3",
   "metadata": {},
   "outputs": [
    {
     "data": {
      "text/plain": [
       "[67, 2, 3, 4]"
      ]
     },
     "execution_count": 17,
     "metadata": {},
     "output_type": "execute_result"
    }
   ],
   "source": [
    "l1"
   ]
  },
  {
   "cell_type": "code",
   "execution_count": 18,
   "id": "eeec57ad-f2c0-498c-b873-9e86e161a86b",
   "metadata": {},
   "outputs": [],
   "source": [
    "l1.insert(-1, 45)"
   ]
  },
  {
   "cell_type": "code",
   "execution_count": 19,
   "id": "8f9419e3-c6ec-41ed-8ea5-a53d88b68d84",
   "metadata": {},
   "outputs": [
    {
     "data": {
      "text/plain": [
       "[67, 2, 3, 45, 4]"
      ]
     },
     "execution_count": 19,
     "metadata": {},
     "output_type": "execute_result"
    }
   ],
   "source": [
    "l1"
   ]
  },
  {
   "cell_type": "code",
   "execution_count": 20,
   "id": "c6928596-1823-4dfb-97a0-66fccae9cec6",
   "metadata": {},
   "outputs": [
    {
     "data": {
      "text/plain": [
       "45"
      ]
     },
     "execution_count": 20,
     "metadata": {},
     "output_type": "execute_result"
    }
   ],
   "source": [
    "l1.pop(3)"
   ]
  },
  {
   "cell_type": "code",
   "execution_count": 21,
   "id": "59b9a437-d7f0-43d9-b018-afc1c1aa16cf",
   "metadata": {},
   "outputs": [
    {
     "data": {
      "text/plain": [
       "[67, 2, 3, 4]"
      ]
     },
     "execution_count": 21,
     "metadata": {},
     "output_type": "execute_result"
    }
   ],
   "source": [
    "l1"
   ]
  },
  {
   "cell_type": "code",
   "execution_count": 22,
   "id": "94f38899-8db7-4194-98d8-917f9d56bb02",
   "metadata": {},
   "outputs": [
    {
     "data": {
      "text/plain": [
       "4"
      ]
     },
     "execution_count": 22,
     "metadata": {},
     "output_type": "execute_result"
    }
   ],
   "source": [
    "l1.pop()"
   ]
  },
  {
   "cell_type": "code",
   "execution_count": 23,
   "id": "44f40b85-ed17-4dbb-9629-af6b80ab3efd",
   "metadata": {},
   "outputs": [
    {
     "data": {
      "text/plain": [
       "[67, 2, 3]"
      ]
     },
     "execution_count": 23,
     "metadata": {},
     "output_type": "execute_result"
    }
   ],
   "source": [
    "l1"
   ]
  },
  {
   "cell_type": "code",
   "execution_count": 24,
   "id": "44b9d2db-14c7-4731-947a-d2c81f0c3850",
   "metadata": {},
   "outputs": [
    {
     "data": {
      "text/plain": [
       "3"
      ]
     },
     "execution_count": 24,
     "metadata": {},
     "output_type": "execute_result"
    }
   ],
   "source": [
    "l1.pop()"
   ]
  },
  {
   "cell_type": "code",
   "execution_count": 25,
   "id": "be44617f-c63e-42a5-b6a8-0149fbdb5e1a",
   "metadata": {},
   "outputs": [
    {
     "data": {
      "text/plain": [
       "[67, 2]"
      ]
     },
     "execution_count": 25,
     "metadata": {},
     "output_type": "execute_result"
    }
   ],
   "source": [
    "l1"
   ]
  },
  {
   "cell_type": "code",
   "execution_count": 26,
   "id": "697b270e-b53f-4058-bc6e-3ecd57fec9d7",
   "metadata": {},
   "outputs": [
    {
     "data": {
      "text/plain": [
       "[67, 2]"
      ]
     },
     "execution_count": 26,
     "metadata": {},
     "output_type": "execute_result"
    }
   ],
   "source": [
    "l1"
   ]
  },
  {
   "cell_type": "code",
   "execution_count": 27,
   "id": "fae06354-19c8-4093-87db-82f744129356",
   "metadata": {},
   "outputs": [],
   "source": [
    "l1.remove(2)"
   ]
  },
  {
   "cell_type": "code",
   "execution_count": 28,
   "id": "32dabfe9-f766-4b2f-b8b8-87a5bd66cc3d",
   "metadata": {},
   "outputs": [
    {
     "data": {
      "text/plain": [
       "[67]"
      ]
     },
     "execution_count": 28,
     "metadata": {},
     "output_type": "execute_result"
    }
   ],
   "source": [
    "l1"
   ]
  },
  {
   "cell_type": "code",
   "execution_count": 29,
   "id": "788be183-fab9-48ed-8178-8716f80132ec",
   "metadata": {},
   "outputs": [
    {
     "data": {
      "text/plain": [
       "[1, 234, 45, 'upen', True, (5+6j), 567.89, [67], 'U', 'p', 4, 5, 6]"
      ]
     },
     "execution_count": 29,
     "metadata": {},
     "output_type": "execute_result"
    }
   ],
   "source": [
    "l"
   ]
  },
  {
   "cell_type": "code",
   "execution_count": 31,
   "id": "112c14bd-834a-4fcc-9607-edef19f90fb4",
   "metadata": {},
   "outputs": [
    {
     "ename": "IndexError",
     "evalue": "list index out of range",
     "output_type": "error",
     "traceback": [
      "\u001b[0;31m---------------------------------------------------------------------------\u001b[0m",
      "\u001b[0;31mIndexError\u001b[0m                                Traceback (most recent call last)",
      "Cell \u001b[0;32mIn [31], line 1\u001b[0m\n\u001b[0;32m----> 1\u001b[0m \u001b[43ml1\u001b[49m\u001b[43m[\u001b[49m\u001b[38;5;241;43m7\u001b[39;49m\u001b[43m]\u001b[49m\u001b[38;5;241m.\u001b[39mremove(\u001b[38;5;241m67\u001b[39m)\n",
      "\u001b[0;31mIndexError\u001b[0m: list index out of range"
     ]
    }
   ],
   "source": [
    "l1[7].remove(67)"
   ]
  },
  {
   "cell_type": "code",
   "execution_count": 32,
   "id": "4db0bad8-f618-489b-a6d4-302a698e2504",
   "metadata": {},
   "outputs": [
    {
     "data": {
      "text/plain": [
       "[67]"
      ]
     },
     "execution_count": 32,
     "metadata": {},
     "output_type": "execute_result"
    }
   ],
   "source": [
    "l1"
   ]
  },
  {
   "cell_type": "code",
   "execution_count": 33,
   "id": "7c825771-e6ca-4316-bf01-3f26fa72791b",
   "metadata": {},
   "outputs": [],
   "source": [
    " l2  = [45, \"upen\", [2,3,4], 4]"
   ]
  },
  {
   "cell_type": "code",
   "execution_count": 34,
   "id": "06b6cf30-16c0-44c1-8c0f-755db87124df",
   "metadata": {},
   "outputs": [
    {
     "data": {
      "text/plain": [
       "[45, 'upen', [2, 3, 4], 4]"
      ]
     },
     "execution_count": 34,
     "metadata": {},
     "output_type": "execute_result"
    }
   ],
   "source": [
    "l2"
   ]
  },
  {
   "cell_type": "code",
   "execution_count": 35,
   "id": "b2a55567-6651-40d5-be6d-c23b80745691",
   "metadata": {},
   "outputs": [],
   "source": [
    "l2.append(4)"
   ]
  },
  {
   "cell_type": "code",
   "execution_count": 36,
   "id": "c430fc03-2076-4f8f-a0ae-0afc52e57eb7",
   "metadata": {},
   "outputs": [],
   "source": [
    "l2.remove(4)"
   ]
  },
  {
   "cell_type": "code",
   "execution_count": 37,
   "id": "9ff7dc9f-cb7c-4088-a151-98b1dc59cfc4",
   "metadata": {},
   "outputs": [
    {
     "data": {
      "text/plain": [
       "[45, 'upen', [2, 3, 4], 4]"
      ]
     },
     "execution_count": 37,
     "metadata": {},
     "output_type": "execute_result"
    }
   ],
   "source": [
    "l2"
   ]
  },
  {
   "cell_type": "code",
   "execution_count": 38,
   "id": "7393d519-88ec-4f1c-98c1-03459a98097b",
   "metadata": {},
   "outputs": [
    {
     "data": {
      "text/plain": [
       "[4, [2, 3, 4], 'upen', 45]"
      ]
     },
     "execution_count": 38,
     "metadata": {},
     "output_type": "execute_result"
    }
   ],
   "source": [
    "l2[:: -1]"
   ]
  },
  {
   "cell_type": "code",
   "execution_count": 46,
   "id": "676fedae-b3ca-4b20-a0f0-4901908b002c",
   "metadata": {},
   "outputs": [
    {
     "data": {
      "text/plain": [
       "[4, [2, 3, 4], 'upen', 45]"
      ]
     },
     "execution_count": 46,
     "metadata": {},
     "output_type": "execute_result"
    }
   ],
   "source": [
    "l2\n"
   ]
  },
  {
   "cell_type": "code",
   "execution_count": 47,
   "id": "b7d5516e-8cc2-4fed-b97b-f5cd1a9ece87",
   "metadata": {},
   "outputs": [],
   "source": [
    "l2.reverse()"
   ]
  },
  {
   "cell_type": "code",
   "execution_count": 48,
   "id": "4f4a5c72-8e66-47cd-a99e-1e6e2bc250ab",
   "metadata": {},
   "outputs": [
    {
     "data": {
      "text/plain": [
       "[45, 'upen', [2, 3, 4], 4]"
      ]
     },
     "execution_count": 48,
     "metadata": {},
     "output_type": "execute_result"
    }
   ],
   "source": [
    "l2"
   ]
  },
  {
   "cell_type": "code",
   "execution_count": 49,
   "id": "63e19f4a-5ac1-430c-9374-393ef517e72e",
   "metadata": {},
   "outputs": [
    {
     "data": {
      "text/plain": [
       "[45, 'upen', [2, 3, 4], 4]"
      ]
     },
     "execution_count": 49,
     "metadata": {},
     "output_type": "execute_result"
    }
   ],
   "source": [
    "l2"
   ]
  },
  {
   "cell_type": "code",
   "execution_count": 50,
   "id": "ed840843-8f6c-4daf-8426-e738d5cdd05a",
   "metadata": {},
   "outputs": [
    {
     "ename": "TypeError",
     "evalue": "'<' not supported between instances of 'str' and 'int'",
     "output_type": "error",
     "traceback": [
      "\u001b[0;31m---------------------------------------------------------------------------\u001b[0m",
      "\u001b[0;31mTypeError\u001b[0m                                 Traceback (most recent call last)",
      "Cell \u001b[0;32mIn [50], line 1\u001b[0m\n\u001b[0;32m----> 1\u001b[0m \u001b[43ml2\u001b[49m\u001b[38;5;241;43m.\u001b[39;49m\u001b[43msort\u001b[49m\u001b[43m(\u001b[49m\u001b[43m)\u001b[49m\n",
      "\u001b[0;31mTypeError\u001b[0m: '<' not supported between instances of 'str' and 'int'"
     ]
    }
   ],
   "source": [
    "l2.sort()"
   ]
  },
  {
   "cell_type": "code",
   "execution_count": 51,
   "id": "ef2dc794-9d4f-4293-b829-7e0880e812f1",
   "metadata": {},
   "outputs": [],
   "source": [
    "l3 = [3,2,1,3,5,7,85,3]"
   ]
  },
  {
   "cell_type": "code",
   "execution_count": 52,
   "id": "bbb7d8cd-7b3c-488d-9025-46cf28a50a28",
   "metadata": {},
   "outputs": [],
   "source": [
    "l3.sort()"
   ]
  },
  {
   "cell_type": "code",
   "execution_count": 53,
   "id": "58f28443-9d7e-46b0-ac37-86c77286900c",
   "metadata": {},
   "outputs": [
    {
     "data": {
      "text/plain": [
       "[1, 2, 3, 3, 3, 5, 7, 85]"
      ]
     },
     "execution_count": 53,
     "metadata": {},
     "output_type": "execute_result"
    }
   ],
   "source": [
    "l3"
   ]
  },
  {
   "cell_type": "code",
   "execution_count": 54,
   "id": "c2ebd856-10cc-45fd-973c-6f2b9eacb9cb",
   "metadata": {},
   "outputs": [
    {
     "data": {
      "text/plain": [
       "[1, 2, 3, 3, 3, 5, 7, 85]"
      ]
     },
     "execution_count": 54,
     "metadata": {},
     "output_type": "execute_result"
    }
   ],
   "source": [
    "l3"
   ]
  },
  {
   "cell_type": "code",
   "execution_count": 55,
   "id": "3c5ac8bf-6353-47a0-b2e9-a07f0586f7b7",
   "metadata": {},
   "outputs": [],
   "source": [
    "l4 = [23,\"upen\" , 5,4,34,62,12,]"
   ]
  },
  {
   "cell_type": "code",
   "execution_count": 56,
   "id": "bfe32e53-b0a0-4a33-9dbc-284df6507532",
   "metadata": {},
   "outputs": [
    {
     "ename": "TypeError",
     "evalue": "'<' not supported between instances of 'str' and 'int'",
     "output_type": "error",
     "traceback": [
      "\u001b[0;31m---------------------------------------------------------------------------\u001b[0m",
      "\u001b[0;31mTypeError\u001b[0m                                 Traceback (most recent call last)",
      "Cell \u001b[0;32mIn [56], line 1\u001b[0m\n\u001b[0;32m----> 1\u001b[0m \u001b[43ml4\u001b[49m\u001b[38;5;241;43m.\u001b[39;49m\u001b[43msort\u001b[49m\u001b[43m(\u001b[49m\u001b[43m)\u001b[49m\n",
      "\u001b[0;31mTypeError\u001b[0m: '<' not supported between instances of 'str' and 'int'"
     ]
    }
   ],
   "source": [
    "l4.sort()"
   ]
  },
  {
   "cell_type": "code",
   "execution_count": 62,
   "id": "65206a68-968e-4083-8323-611a6e4ca47a",
   "metadata": {},
   "outputs": [],
   "source": [
    "l5 = [\"upend\" , \"kumar\", \"pwskills\", \"datasceiecn\"]"
   ]
  },
  {
   "cell_type": "code",
   "execution_count": 63,
   "id": "cbf50d39-d517-43d8-a53f-a8e9fafd85c4",
   "metadata": {},
   "outputs": [],
   "source": [
    "l5.sort()"
   ]
  },
  {
   "cell_type": "code",
   "execution_count": 64,
   "id": "fe30f515-55f0-4ea6-bf01-55288e1cea64",
   "metadata": {},
   "outputs": [
    {
     "data": {
      "text/plain": [
       "['datasceiecn', 'kumar', 'pwskills', 'upend']"
      ]
     },
     "execution_count": 64,
     "metadata": {},
     "output_type": "execute_result"
    }
   ],
   "source": [
    "l5"
   ]
  },
  {
   "cell_type": "code",
   "execution_count": 66,
   "id": "9364ba8e-7554-47bc-a3e0-115168e3a758",
   "metadata": {},
   "outputs": [],
   "source": [
    "l6 = [\"boy\" , \"apple\", \"hen\", \"gum\"]"
   ]
  },
  {
   "cell_type": "code",
   "execution_count": 69,
   "id": "54c8ebd2-fa95-466d-8fac-81f40446683c",
   "metadata": {},
   "outputs": [],
   "source": [
    "l6.sort(reverse = True)"
   ]
  },
  {
   "cell_type": "code",
   "execution_count": 70,
   "id": "21b28150-b7c5-45f9-b195-e3d5931a8939",
   "metadata": {},
   "outputs": [
    {
     "data": {
      "text/plain": [
       "['hen', 'gum', 'boy', 'apple']"
      ]
     },
     "execution_count": 70,
     "metadata": {},
     "output_type": "execute_result"
    }
   ],
   "source": [
    "l6"
   ]
  },
  {
   "cell_type": "code",
   "execution_count": 71,
   "id": "a5c0d478-481a-4227-8a55-4db442cc31b6",
   "metadata": {},
   "outputs": [
    {
     "data": {
      "text/plain": [
       "[23, 'upen', 5, 4, 34, 62, 12]"
      ]
     },
     "execution_count": 71,
     "metadata": {},
     "output_type": "execute_result"
    }
   ],
   "source": [
    "l4"
   ]
  },
  {
   "cell_type": "code",
   "execution_count": 72,
   "id": "fc0e3e9c-afef-444b-a37a-3d34d5c70957",
   "metadata": {},
   "outputs": [
    {
     "data": {
      "text/plain": [
       "1"
      ]
     },
     "execution_count": 72,
     "metadata": {},
     "output_type": "execute_result"
    }
   ],
   "source": [
    "l4.index(\"upen\")"
   ]
  },
  {
   "cell_type": "code",
   "execution_count": 73,
   "id": "94376e49-65c4-43a7-8a8c-9bd92d7c988e",
   "metadata": {},
   "outputs": [
    {
     "data": {
      "text/plain": [
       "1"
      ]
     },
     "execution_count": 73,
     "metadata": {},
     "output_type": "execute_result"
    }
   ],
   "source": [
    "l4.count(\"upen\")"
   ]
  },
  {
   "cell_type": "code",
   "execution_count": 74,
   "id": "726a374d-547d-4581-85c3-cc4b5e0b871e",
   "metadata": {},
   "outputs": [],
   "source": [
    "s = \"Upend\""
   ]
  },
  {
   "cell_type": "code",
   "execution_count": 76,
   "id": "bffe01d0-4577-48cd-8b30-3351a0a8362b",
   "metadata": {},
   "outputs": [
    {
     "data": {
      "text/plain": [
       "'Upend'"
      ]
     },
     "execution_count": 76,
     "metadata": {},
     "output_type": "execute_result"
    }
   ],
   "source": [
    "s"
   ]
  },
  {
   "cell_type": "code",
   "execution_count": 77,
   "id": "204151ee-94cb-4ebb-830e-3df449387574",
   "metadata": {},
   "outputs": [
    {
     "data": {
      "text/plain": [
       "[1, 2, 3, 3, 3, 5, 7, 85]"
      ]
     },
     "execution_count": 77,
     "metadata": {},
     "output_type": "execute_result"
    }
   ],
   "source": [
    "l3"
   ]
  },
  {
   "cell_type": "code",
   "execution_count": 78,
   "id": "40316280-a4f7-4b5b-9333-4c8559129d5e",
   "metadata": {},
   "outputs": [],
   "source": [
    "l3[5] = 45"
   ]
  },
  {
   "cell_type": "code",
   "execution_count": 79,
   "id": "57e4abf4-a6d7-4614-bef7-7a9d314a5496",
   "metadata": {},
   "outputs": [
    {
     "data": {
      "text/plain": [
       "[1, 2, 3, 3, 3, 45, 7, 85]"
      ]
     },
     "execution_count": 79,
     "metadata": {},
     "output_type": "execute_result"
    }
   ],
   "source": [
    "l3"
   ]
  },
  {
   "cell_type": "code",
   "execution_count": 80,
   "id": "2eb44f66-7249-47fd-a55f-72ca3fe7ddd9",
   "metadata": {},
   "outputs": [
    {
     "data": {
      "text/plain": [
       "'Upend'"
      ]
     },
     "execution_count": 80,
     "metadata": {},
     "output_type": "execute_result"
    }
   ],
   "source": [
    "s"
   ]
  },
  {
   "cell_type": "code",
   "execution_count": 81,
   "id": "64ddbda9-a9e8-47a7-afe4-12b4096cb32f",
   "metadata": {},
   "outputs": [
    {
     "data": {
      "text/plain": [
       "'epend'"
      ]
     },
     "execution_count": 81,
     "metadata": {},
     "output_type": "execute_result"
    }
   ],
   "source": [
    "s.replace('U' , 'e')"
   ]
  },
  {
   "cell_type": "code",
   "execution_count": 86,
   "id": "45a08b33-50b0-4775-8c90-d8fffe2a350e",
   "metadata": {},
   "outputs": [
    {
     "data": {
      "text/plain": [
       "'Upend'"
      ]
     },
     "execution_count": 86,
     "metadata": {},
     "output_type": "execute_result"
    }
   ],
   "source": [
    "s"
   ]
  },
  {
   "cell_type": "code",
   "execution_count": 87,
   "id": "ca5cf8d4-d010-4013-8c7d-6a478a603c69",
   "metadata": {},
   "outputs": [],
   "source": [
    "t = (2,3,4,5,6, \"5+6j\", False, [3,4,5])"
   ]
  },
  {
   "cell_type": "code",
   "execution_count": 88,
   "id": "e0e1de06-0c77-4067-8109-4ad8f2bb25c2",
   "metadata": {},
   "outputs": [
    {
     "data": {
      "text/plain": [
       "(2, 3, 4, 5, 6, '5+6j', False, [3, 4, 5])"
      ]
     },
     "execution_count": 88,
     "metadata": {},
     "output_type": "execute_result"
    }
   ],
   "source": [
    "t"
   ]
  },
  {
   "cell_type": "code",
   "execution_count": 89,
   "id": "83c114f0-2499-4b72-b581-a062523c8690",
   "metadata": {},
   "outputs": [
    {
     "data": {
      "text/plain": [
       "tuple"
      ]
     },
     "execution_count": 89,
     "metadata": {},
     "output_type": "execute_result"
    }
   ],
   "source": [
    "type(t)"
   ]
  },
  {
   "cell_type": "code",
   "execution_count": 90,
   "id": "0bd1a102-edd8-4a0e-b9fe-788e414159ed",
   "metadata": {},
   "outputs": [
    {
     "data": {
      "text/plain": [
       "8"
      ]
     },
     "execution_count": 90,
     "metadata": {},
     "output_type": "execute_result"
    }
   ],
   "source": [
    "len(t)"
   ]
  },
  {
   "cell_type": "code",
   "execution_count": 91,
   "id": "cdb6394e-7b64-4d8f-84e6-2cda6271e715",
   "metadata": {},
   "outputs": [
    {
     "data": {
      "text/plain": [
       "2"
      ]
     },
     "execution_count": 91,
     "metadata": {},
     "output_type": "execute_result"
    }
   ],
   "source": [
    "t[0]"
   ]
  },
  {
   "cell_type": "code",
   "execution_count": 92,
   "id": "cfe87b25-457f-4605-8134-d5398095f76f",
   "metadata": {},
   "outputs": [
    {
     "data": {
      "text/plain": [
       "[3, 4, 5]"
      ]
     },
     "execution_count": 92,
     "metadata": {},
     "output_type": "execute_result"
    }
   ],
   "source": [
    "t[-1]"
   ]
  },
  {
   "cell_type": "code",
   "execution_count": 93,
   "id": "af9caf05-af5f-4457-8861-99c08920a2e7",
   "metadata": {},
   "outputs": [
    {
     "data": {
      "text/plain": [
       "([3, 4, 5], False, '5+6j', 6, 5, 4, 3, 2)"
      ]
     },
     "execution_count": 93,
     "metadata": {},
     "output_type": "execute_result"
    }
   ],
   "source": [
    "t[::-1]"
   ]
  },
  {
   "cell_type": "code",
   "execution_count": 94,
   "id": "2fbe06bc-e1b1-4690-9115-bdf2d54ff9dd",
   "metadata": {},
   "outputs": [
    {
     "data": {
      "text/plain": [
       "['datasceiecn', 'kumar', 'pwskills', 'upend']"
      ]
     },
     "execution_count": 94,
     "metadata": {},
     "output_type": "execute_result"
    }
   ],
   "source": [
    "l5"
   ]
  },
  {
   "cell_type": "code",
   "execution_count": 95,
   "id": "db4db53c-a468-46a9-9622-59af820cf293",
   "metadata": {},
   "outputs": [],
   "source": [
    "l5[0] = 3424"
   ]
  },
  {
   "cell_type": "code",
   "execution_count": 96,
   "id": "f18ebcc7-6f83-4275-89ae-9a51529ce981",
   "metadata": {},
   "outputs": [
    {
     "data": {
      "text/plain": [
       "[3424, 'kumar', 'pwskills', 'upend']"
      ]
     },
     "execution_count": 96,
     "metadata": {},
     "output_type": "execute_result"
    }
   ],
   "source": [
    "l5"
   ]
  },
  {
   "cell_type": "code",
   "execution_count": 97,
   "id": "7f6f6386-e96a-44df-a71e-e8fd8d82bed1",
   "metadata": {},
   "outputs": [
    {
     "data": {
      "text/plain": [
       "(2, 3, 4, 5, 6, '5+6j', False, [3, 4, 5])"
      ]
     },
     "execution_count": 97,
     "metadata": {},
     "output_type": "execute_result"
    }
   ],
   "source": [
    "t"
   ]
  },
  {
   "cell_type": "code",
   "execution_count": 99,
   "id": "838a40dd-04b3-457a-9e75-383f4e09a1bb",
   "metadata": {},
   "outputs": [
    {
     "ename": "TypeError",
     "evalue": "'tuple' object does not support item assignment",
     "output_type": "error",
     "traceback": [
      "\u001b[0;31m---------------------------------------------------------------------------\u001b[0m",
      "\u001b[0;31mTypeError\u001b[0m                                 Traceback (most recent call last)",
      "Cell \u001b[0;32mIn [99], line 1\u001b[0m\n\u001b[0;32m----> 1\u001b[0m \u001b[43mt\u001b[49m\u001b[43m[\u001b[49m\u001b[38;5;241;43m0\u001b[39;49m\u001b[43m]\u001b[49m \u001b[38;5;241m=\u001b[39m \u001b[38;5;124m\"\u001b[39m\u001b[38;5;124muprn\u001b[39m\u001b[38;5;124m\"\u001b[39m\n",
      "\u001b[0;31mTypeError\u001b[0m: 'tuple' object does not support item assignment"
     ]
    }
   ],
   "source": [
    "t[0] = \"uprn\""
   ]
  },
  {
   "cell_type": "code",
   "execution_count": 100,
   "id": "03ea89c3-7c0c-4bda-ae54-c3ca61c22446",
   "metadata": {},
   "outputs": [
    {
     "data": {
      "text/plain": [
       "([3, 4, 5], False, '5+6j', 6, 5, 4, 3, 2)"
      ]
     },
     "execution_count": 100,
     "metadata": {},
     "output_type": "execute_result"
    }
   ],
   "source": [
    "t[::-1]"
   ]
  },
  {
   "cell_type": "code",
   "execution_count": 101,
   "id": "67b5998f-acea-4396-9365-fa046f7f18fd",
   "metadata": {},
   "outputs": [
    {
     "data": {
      "text/plain": [
       "1"
      ]
     },
     "execution_count": 101,
     "metadata": {},
     "output_type": "execute_result"
    }
   ],
   "source": [
    "t.count(5)"
   ]
  },
  {
   "cell_type": "code",
   "execution_count": 102,
   "id": "6550f941-0234-40a4-a96d-b7c37b634628",
   "metadata": {},
   "outputs": [
    {
     "data": {
      "text/plain": [
       "6"
      ]
     },
     "execution_count": 102,
     "metadata": {},
     "output_type": "execute_result"
    }
   ],
   "source": [
    "t.index(False)"
   ]
  },
  {
   "cell_type": "code",
   "execution_count": 103,
   "id": "e10f55f3-5b3b-4086-aac4-f5add165429c",
   "metadata": {},
   "outputs": [],
   "source": [
    "s1 = {}"
   ]
  },
  {
   "cell_type": "code",
   "execution_count": 104,
   "id": "2f65e6fe-6815-42c6-91bc-ce2cc73484be",
   "metadata": {},
   "outputs": [
    {
     "data": {
      "text/plain": [
       "dict"
      ]
     },
     "execution_count": 104,
     "metadata": {},
     "output_type": "execute_result"
    }
   ],
   "source": [
    "type(s1)"
   ]
  },
  {
   "cell_type": "code",
   "execution_count": 105,
   "id": "c35aaf2d-7a1d-40a7-ae53-aaa8431dc704",
   "metadata": {},
   "outputs": [],
   "source": [
    "s2  = {2,3,4,5,6}"
   ]
  },
  {
   "cell_type": "code",
   "execution_count": 106,
   "id": "f53e31a8-54f2-4b37-b063-7e0766ad20b4",
   "metadata": {},
   "outputs": [
    {
     "data": {
      "text/plain": [
       "set"
      ]
     },
     "execution_count": 106,
     "metadata": {},
     "output_type": "execute_result"
    }
   ],
   "source": [
    "type(s2)"
   ]
  },
  {
   "cell_type": "code",
   "execution_count": 107,
   "id": "d43fa320-6b4c-4110-8197-c9dfaae7dde2",
   "metadata": {},
   "outputs": [],
   "source": [
    "s3 = {3,4,5,False, \"Upen\",5+5j,5.6, (3,4,5)}"
   ]
  },
  {
   "cell_type": "code",
   "execution_count": 108,
   "id": "929f2dfe-9322-4511-9a7e-dd1c8c4fa404",
   "metadata": {},
   "outputs": [
    {
     "data": {
      "text/plain": [
       "{(3, 4, 5), (5+5j), 3, 4, 5, 5.6, False, 'Upen'}"
      ]
     },
     "execution_count": 108,
     "metadata": {},
     "output_type": "execute_result"
    }
   ],
   "source": [
    "s3"
   ]
  },
  {
   "cell_type": "code",
   "execution_count": 109,
   "id": "08989e9d-d0c1-4b49-b9b2-16aeea700457",
   "metadata": {},
   "outputs": [],
   "source": [
    "s4 = {2,3,4,5,6,7,1,2,3,54,6,12,3,4,5,6}"
   ]
  },
  {
   "cell_type": "code",
   "execution_count": 110,
   "id": "ac594c11-4862-4b1d-9de0-ba2dd77d9a84",
   "metadata": {},
   "outputs": [
    {
     "data": {
      "text/plain": [
       "{1, 2, 3, 4, 5, 6, 7, 12, 54}"
      ]
     },
     "execution_count": 110,
     "metadata": {},
     "output_type": "execute_result"
    }
   ],
   "source": [
    "s4"
   ]
  },
  {
   "cell_type": "code",
   "execution_count": 111,
   "id": "761d593f-672e-4d67-b52d-a6dd720d12d2",
   "metadata": {},
   "outputs": [],
   "source": [
    "s5 = {3,4,5,56,6,7,777,8,9, \"abc\",567,789,87}"
   ]
  },
  {
   "cell_type": "code",
   "execution_count": 112,
   "id": "6f597340-2b0a-4455-824e-425794c71d2a",
   "metadata": {},
   "outputs": [
    {
     "data": {
      "text/plain": [
       "{3, 4, 5, 56, 567, 6, 7, 777, 789, 8, 87, 9, 'abc'}"
      ]
     },
     "execution_count": 112,
     "metadata": {},
     "output_type": "execute_result"
    }
   ],
   "source": [
    "s5"
   ]
  },
  {
   "cell_type": "code",
   "execution_count": 113,
   "id": "030305c7-baa6-4f50-b626-a04cd43155d5",
   "metadata": {},
   "outputs": [
    {
     "ename": "TypeError",
     "evalue": "'set' object is not subscriptable",
     "output_type": "error",
     "traceback": [
      "\u001b[0;31m---------------------------------------------------------------------------\u001b[0m",
      "\u001b[0;31mTypeError\u001b[0m                                 Traceback (most recent call last)",
      "Cell \u001b[0;32mIn [113], line 1\u001b[0m\n\u001b[0;32m----> 1\u001b[0m \u001b[43ms5\u001b[49m\u001b[43m[\u001b[49m\u001b[38;5;241;43m0\u001b[39;49m\u001b[43m]\u001b[49m\n",
      "\u001b[0;31mTypeError\u001b[0m: 'set' object is not subscriptable"
     ]
    }
   ],
   "source": [
    "s5[0]"
   ]
  },
  {
   "cell_type": "code",
   "execution_count": 114,
   "id": "7f05fcaf-8921-4614-b845-50273c85f122",
   "metadata": {},
   "outputs": [
    {
     "ename": "TypeError",
     "evalue": "'set' object is not subscriptable",
     "output_type": "error",
     "traceback": [
      "\u001b[0;31m---------------------------------------------------------------------------\u001b[0m",
      "\u001b[0;31mTypeError\u001b[0m                                 Traceback (most recent call last)",
      "Cell \u001b[0;32mIn [114], line 1\u001b[0m\n\u001b[0;32m----> 1\u001b[0m \u001b[43ms5\u001b[49m\u001b[43m[\u001b[49m\u001b[43m:\u001b[49m\u001b[43m:\u001b[49m\u001b[38;5;241;43m-\u001b[39;49m\u001b[38;5;241;43m1\u001b[39;49m\u001b[43m]\u001b[49m\n",
      "\u001b[0;31mTypeError\u001b[0m: 'set' object is not subscriptable"
     ]
    }
   ],
   "source": [
    "s5[::-1]"
   ]
  },
  {
   "cell_type": "code",
   "execution_count": 115,
   "id": "50117d9c-5a93-40ef-9240-7e2a0ce4967e",
   "metadata": {},
   "outputs": [
    {
     "data": {
      "text/plain": [
       "{3, 4, 5, 56, 567, 6, 7, 777, 789, 8, 87, 9, 'abc'}"
      ]
     },
     "execution_count": 115,
     "metadata": {},
     "output_type": "execute_result"
    }
   ],
   "source": [
    "s5"
   ]
  },
  {
   "cell_type": "code",
   "execution_count": 116,
   "id": "3084d9df-170c-47b7-84b4-cb466f4e7cd1",
   "metadata": {},
   "outputs": [],
   "source": [
    "s5.add(0)"
   ]
  },
  {
   "cell_type": "code",
   "execution_count": 117,
   "id": "06f10003-a6b2-4e01-ba0f-a65aaed64050",
   "metadata": {},
   "outputs": [
    {
     "data": {
      "text/plain": [
       "{0, 3, 4, 5, 56, 567, 6, 7, 777, 789, 8, 87, 9, 'abc'}"
      ]
     },
     "execution_count": 117,
     "metadata": {},
     "output_type": "execute_result"
    }
   ],
   "source": [
    "s5"
   ]
  },
  {
   "cell_type": "code",
   "execution_count": 118,
   "id": "57171936-3a8e-41e1-9230-cd9ce17dec68",
   "metadata": {},
   "outputs": [],
   "source": [
    "s5.remove(3)\n"
   ]
  },
  {
   "cell_type": "code",
   "execution_count": 119,
   "id": "60927174-6c89-4d42-86ec-0ef3cd514e41",
   "metadata": {},
   "outputs": [
    {
     "data": {
      "text/plain": [
       "{0, 4, 5, 56, 567, 6, 7, 777, 789, 8, 87, 9, 'abc'}"
      ]
     },
     "execution_count": 119,
     "metadata": {},
     "output_type": "execute_result"
    }
   ],
   "source": [
    "s5"
   ]
  },
  {
   "cell_type": "code",
   "execution_count": null,
   "id": "d3c78400-69e1-41ed-80dc-290585963fc3",
   "metadata": {},
   "outputs": [],
   "source": []
  }
 ],
 "metadata": {
  "kernelspec": {
   "display_name": "Python 3 (ipykernel)",
   "language": "python",
   "name": "python3"
  },
  "language_info": {
   "codemirror_mode": {
    "name": "ipython",
    "version": 3
   },
   "file_extension": ".py",
   "mimetype": "text/x-python",
   "name": "python",
   "nbconvert_exporter": "python",
   "pygments_lexer": "ipython3",
   "version": "3.10.6"
  }
 },
 "nbformat": 4,
 "nbformat_minor": 5
}
