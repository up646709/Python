{
 "cells": [
  {
   "cell_type": "code",
   "execution_count": 1,
   "id": "c53396ee-5e4c-43a5-b0a2-6c4df5ab8064",
   "metadata": {},
   "outputs": [],
   "source": [
    "l = [1,2,3,4,5]"
   ]
  },
  {
   "cell_type": "code",
   "execution_count": 3,
   "id": "ac119a0c-8040-42e7-bcca-47c6e8194827",
   "metadata": {},
   "outputs": [
    {
     "name": "stdout",
     "output_type": "stream",
     "text": [
      "1 <class 'int'>\n",
      "2 <class 'int'>\n",
      "3 <class 'int'>\n",
      "4 <class 'int'>\n",
      "5 <class 'int'>\n"
     ]
    }
   ],
   "source": [
    "for i in l : \n",
    "    print(i , type(i))"
   ]
  },
  {
   "cell_type": "code",
   "execution_count": 4,
   "id": "88993272-7c5e-40b2-b575-0654fce9439c",
   "metadata": {},
   "outputs": [],
   "source": [
    "l1 = [\"upend\" , \"kumar\",  \"patel\", \"rudra\"]"
   ]
  },
  {
   "cell_type": "code",
   "execution_count": 6,
   "id": "a18b315d-6c9b-493f-89e9-645522a7bf62",
   "metadata": {},
   "outputs": [
    {
     "name": "stdout",
     "output_type": "stream",
     "text": [
      "upend\n",
      "kumar\n",
      "patel\n",
      "rudra\n"
     ]
    }
   ],
   "source": [
    "for i in l1 :\n",
    "    print(i)"
   ]
  },
  {
   "cell_type": "code",
   "execution_count": 7,
   "id": "aa76123a-e7da-4226-8b5b-839bd072f54a",
   "metadata": {},
   "outputs": [
    {
     "data": {
      "text/plain": [
       "['upend', 'kumar', 'patel', 'rudra']"
      ]
     },
     "execution_count": 7,
     "metadata": {},
     "output_type": "execute_result"
    }
   ],
   "source": [
    "l1\n"
   ]
  },
  {
   "cell_type": "code",
   "execution_count": 10,
   "id": "c119ee9f-6521-4712-ac38-02c6e2bc71cc",
   "metadata": {},
   "outputs": [
    {
     "name": "stdout",
     "output_type": "stream",
     "text": [
      "upend\n",
      "kumar\n",
      "patel\n",
      "rudra\n",
      "if for loop is able to complete itself then only else will execute\n"
     ]
    }
   ],
   "source": [
    "for i in l1 :\n",
    "    print(i)\n",
    "else : \n",
    "    print(\"if for loop is able to complete itself then only else will execute\")"
   ]
  },
  {
   "cell_type": "code",
   "execution_count": 11,
   "id": "bf8f8a27-d54e-48ea-822a-2d26981b30c6",
   "metadata": {},
   "outputs": [
    {
     "data": {
      "text/plain": [
       "['upend', 'kumar', 'patel', 'rudra']"
      ]
     },
     "execution_count": 11,
     "metadata": {},
     "output_type": "execute_result"
    }
   ],
   "source": [
    "l1"
   ]
  },
  {
   "cell_type": "code",
   "execution_count": 12,
   "id": "2fc23814-411c-4293-a08e-b357831f0210",
   "metadata": {},
   "outputs": [
    {
     "name": "stdout",
     "output_type": "stream",
     "text": [
      "upend\n"
     ]
    }
   ],
   "source": [
    "for i in l1 : \n",
    "    if i == \"kumar\":\n",
    "        break\n",
    "    print(i)    "
   ]
  },
  {
   "cell_type": "code",
   "execution_count": 13,
   "id": "5359318b-a870-420d-adff-1675aa6245b7",
   "metadata": {},
   "outputs": [
    {
     "data": {
      "text/plain": [
       "['upend', 'kumar', 'patel', 'rudra']"
      ]
     },
     "execution_count": 13,
     "metadata": {},
     "output_type": "execute_result"
    }
   ],
   "source": [
    "l1\n"
   ]
  },
  {
   "cell_type": "code",
   "execution_count": 14,
   "id": "5179db19-a741-42d8-a3e8-3d7a66480536",
   "metadata": {},
   "outputs": [
    {
     "name": "stdout",
     "output_type": "stream",
     "text": [
      "upend\n"
     ]
    }
   ],
   "source": [
    "for i in l1:\n",
    "    if i == \"kumar\":\n",
    "        break\n",
    "    print(i)\n",
    "else :\n",
    "    print(\"execute this if for loop is able to complete itself\")"
   ]
  },
  {
   "cell_type": "code",
   "execution_count": 15,
   "id": "90f4ad13-c39a-4140-ae3e-cfb3845a46dc",
   "metadata": {},
   "outputs": [
    {
     "data": {
      "text/plain": [
       "['upend', 'kumar', 'patel', 'rudra']"
      ]
     },
     "execution_count": 15,
     "metadata": {},
     "output_type": "execute_result"
    }
   ],
   "source": [
    "l1"
   ]
  },
  {
   "cell_type": "code",
   "execution_count": 16,
   "id": "b05a679d-05ae-4a1f-a049-f54622166f27",
   "metadata": {},
   "outputs": [
    {
     "name": "stdout",
     "output_type": "stream",
     "text": [
      "upend\n",
      "patel\n",
      "rudra\n"
     ]
    }
   ],
   "source": [
    "for i in l1 :\n",
    "    if i == \"kumar\":\n",
    "        continue\n",
    "    print(i)    "
   ]
  },
  {
   "cell_type": "code",
   "execution_count": 17,
   "id": "07f0ea8d-ec01-4e6f-ab17-b4d1f60c2244",
   "metadata": {},
   "outputs": [
    {
     "name": "stdout",
     "output_type": "stream",
     "text": [
      "upend\n",
      "patel\n",
      "rudra\n",
      "execute this if for loop is able to complete itself\n"
     ]
    }
   ],
   "source": [
    "for i in l1 :\n",
    "    if i == \"kumar\":\n",
    "        continue\n",
    "        \n",
    "    print(i)\n",
    "else :\n",
    "    print(\"execute this if for loop is able to complete itself\")    "
   ]
  },
  {
   "cell_type": "code",
   "execution_count": 18,
   "id": "d6b9e547-ebf9-489b-be71-cec9f996e454",
   "metadata": {},
   "outputs": [
    {
     "data": {
      "text/plain": [
       "range(0, 5)"
      ]
     },
     "execution_count": 18,
     "metadata": {},
     "output_type": "execute_result"
    }
   ],
   "source": [
    "range(5)"
   ]
  },
  {
   "cell_type": "code",
   "execution_count": 19,
   "id": "8c83a381-d340-4e5c-9902-6dccca2d2f97",
   "metadata": {},
   "outputs": [
    {
     "data": {
      "text/plain": [
       "[0, 1, 2, 3, 4]"
      ]
     },
     "execution_count": 19,
     "metadata": {},
     "output_type": "execute_result"
    }
   ],
   "source": [
    "list(range(5))"
   ]
  },
  {
   "cell_type": "code",
   "execution_count": 20,
   "id": "e61a9f69-f7c8-4dc4-82a2-982e6b76a428",
   "metadata": {},
   "outputs": [
    {
     "data": {
      "text/plain": [
       "[0, 1, 2, 3, 4]"
      ]
     },
     "execution_count": 20,
     "metadata": {},
     "output_type": "execute_result"
    }
   ],
   "source": [
    "list(range(0,5,1))"
   ]
  },
  {
   "cell_type": "code",
   "execution_count": 21,
   "id": "092342dd-5ebe-4e25-8f6e-0dafbd4eabbd",
   "metadata": {},
   "outputs": [
    {
     "data": {
      "text/plain": [
       "[0, 2, 4, 6, 8, 10, 12, 14, 16, 18]"
      ]
     },
     "execution_count": 21,
     "metadata": {},
     "output_type": "execute_result"
    }
   ],
   "source": [
    "list(range(0,20,2))"
   ]
  },
  {
   "cell_type": "code",
   "execution_count": 22,
   "id": "67637835-7e2a-4081-991a-4ef0ea89cf12",
   "metadata": {},
   "outputs": [
    {
     "data": {
      "text/plain": [
       "[-10, -9, -8, -7, -6, -5, -4, -3, -2, -1]"
      ]
     },
     "execution_count": 22,
     "metadata": {},
     "output_type": "execute_result"
    }
   ],
   "source": [
    "list(range(-10,0))"
   ]
  },
  {
   "cell_type": "code",
   "execution_count": 23,
   "id": "128c74df-ad61-4872-a541-ed5efea202b6",
   "metadata": {},
   "outputs": [
    {
     "data": {
      "text/plain": [
       "['upend', 'kumar', 'patel', 'rudra']"
      ]
     },
     "execution_count": 23,
     "metadata": {},
     "output_type": "execute_result"
    }
   ],
   "source": [
    "l1"
   ]
  },
  {
   "cell_type": "code",
   "execution_count": 1,
   "id": "5e6ae91e-feb7-4c8f-8d76-95ee2dff4dc6",
   "metadata": {},
   "outputs": [
    {
     "ename": "NameError",
     "evalue": "name 'l1' is not defined",
     "output_type": "error",
     "traceback": [
      "\u001b[0;31m---------------------------------------------------------------------------\u001b[0m",
      "\u001b[0;31mNameError\u001b[0m                                 Traceback (most recent call last)",
      "Cell \u001b[0;32mIn [1], line 1\u001b[0m\n\u001b[0;32m----> 1\u001b[0m \u001b[38;5;28;01mfor\u001b[39;00m i \u001b[38;5;129;01min\u001b[39;00m \u001b[38;5;28mrange\u001b[39m(\u001b[38;5;28mlen\u001b[39m(\u001b[43ml1\u001b[49m)) :\n\u001b[1;32m      2\u001b[0m     \u001b[38;5;28mprint\u001b[39m(l1[i])\n",
      "\u001b[0;31mNameError\u001b[0m: name 'l1' is not defined"
     ]
    }
   ],
   "source": [
    "for i in range(len(l1)) :\n",
    "    print(l1[i])"
   ]
  },
  {
   "cell_type": "code",
   "execution_count": 2,
   "id": "a872a153-1114-4f44-8784-31911d3428f3",
   "metadata": {},
   "outputs": [],
   "source": [
    "l1 = [\"upend\" , \"kumar\",  \"patel\", \"rudra\"]"
   ]
  },
  {
   "cell_type": "code",
   "execution_count": 3,
   "id": "e1165621-a08b-4017-89b0-5b06f0e05e5a",
   "metadata": {},
   "outputs": [
    {
     "data": {
      "text/plain": [
       "['upend', 'kumar', 'patel', 'rudra']"
      ]
     },
     "execution_count": 3,
     "metadata": {},
     "output_type": "execute_result"
    }
   ],
   "source": [
    "l1"
   ]
  },
  {
   "cell_type": "code",
   "execution_count": 4,
   "id": "1dcbad30-fbc6-4db3-9058-35fb7056d4e9",
   "metadata": {},
   "outputs": [
    {
     "data": {
      "text/plain": [
       "4"
      ]
     },
     "execution_count": 4,
     "metadata": {},
     "output_type": "execute_result"
    }
   ],
   "source": [
    "len(l1)"
   ]
  },
  {
   "cell_type": "code",
   "execution_count": 6,
   "id": "112125ee-b997-4d60-aa20-cf7c75c037d9",
   "metadata": {},
   "outputs": [
    {
     "data": {
      "text/plain": [
       "[]"
      ]
     },
     "execution_count": 6,
     "metadata": {},
     "output_type": "execute_result"
    }
   ],
   "source": [
    "list(range(len(l1)-1,0))"
   ]
  },
  {
   "cell_type": "code",
   "execution_count": 9,
   "id": "781baef3-2b7c-4a02-9864-c35eea3f02e2",
   "metadata": {},
   "outputs": [
    {
     "name": "stdout",
     "output_type": "stream",
     "text": [
      "rudra\n",
      "patel\n",
      "kumar\n",
      "upend\n"
     ]
    }
   ],
   "source": [
    "for i in range(len(l1)-1,-1,-1) :\n",
    "    print(l1[i])"
   ]
  },
  {
   "cell_type": "code",
   "execution_count": 10,
   "id": "d5b6876a-62c6-49f0-9e68-ca4bd7ae403d",
   "metadata": {},
   "outputs": [],
   "source": [
    "l2 = [23,44,56,7,89,9,66,555,43,32,56,788,999,5]"
   ]
  },
  {
   "cell_type": "code",
   "execution_count": 12,
   "id": "04efc4ef-6e03-4259-9236-82cc86c0faa4",
   "metadata": {},
   "outputs": [
    {
     "data": {
      "text/plain": [
       "[0, 2, 4, 6, 8, 10, 12]"
      ]
     },
     "execution_count": 12,
     "metadata": {},
     "output_type": "execute_result"
    }
   ],
   "source": [
    "list (range(0 , len(l2) ,2))"
   ]
  },
  {
   "cell_type": "code",
   "execution_count": 13,
   "id": "db722535-abee-40f9-8c37-1d19d896d175",
   "metadata": {},
   "outputs": [
    {
     "name": "stdout",
     "output_type": "stream",
     "text": [
      "23\n",
      "56\n",
      "89\n",
      "66\n",
      "43\n",
      "56\n",
      "999\n"
     ]
    }
   ],
   "source": [
    "for i in range(0 , len(l2) ,2) :\n",
    "    print(l2[i])"
   ]
  },
  {
   "cell_type": "code",
   "execution_count": 14,
   "id": "a3ce58e2-5156-4282-aba4-7a40fefe0c3e",
   "metadata": {},
   "outputs": [],
   "source": [
    "l = [1,2,3,4,5,6,7,8,9]"
   ]
  },
  {
   "cell_type": "code",
   "execution_count": 15,
   "id": "16405bbd-5bad-4067-81a8-8307bf8da015",
   "metadata": {},
   "outputs": [
    {
     "data": {
      "text/plain": [
       "45"
      ]
     },
     "execution_count": 15,
     "metadata": {},
     "output_type": "execute_result"
    }
   ],
   "source": [
    "sum(l)"
   ]
  },
  {
   "cell_type": "code",
   "execution_count": 16,
   "id": "59ee22d4-c95b-4f81-a31b-7c92b032299b",
   "metadata": {},
   "outputs": [
    {
     "data": {
      "text/plain": [
       "45"
      ]
     },
     "execution_count": 16,
     "metadata": {},
     "output_type": "execute_result"
    }
   ],
   "source": [
    "result = 0\n",
    "for i in l : \n",
    "    result = result + i\n",
    "result    \n",
    "    "
   ]
  },
  {
   "cell_type": "code",
   "execution_count": null,
   "id": "385218ce-f954-4e4f-9f88-16e3589a73ce",
   "metadata": {},
   "outputs": [],
   "source": []
  }
 ],
 "metadata": {
  "kernelspec": {
   "display_name": "Python 3 (ipykernel)",
   "language": "python",
   "name": "python3"
  },
  "language_info": {
   "codemirror_mode": {
    "name": "ipython",
    "version": 3
   },
   "file_extension": ".py",
   "mimetype": "text/x-python",
   "name": "python",
   "nbconvert_exporter": "python",
   "pygments_lexer": "ipython3",
   "version": "3.10.6"
  }
 },
 "nbformat": 4,
 "nbformat_minor": 5
}
