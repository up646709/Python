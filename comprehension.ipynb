{
 "cells": [
  {
   "cell_type": "code",
   "execution_count": 2,
   "id": "160a566d-b399-4990-a6d0-acd5ebeda560",
   "metadata": {},
   "outputs": [],
   "source": [
    "l = [1,2,3,4,5,6,778,7]\n",
    "l1 = []\n",
    "for i in l :\n",
    "    l1.append(i**2)"
   ]
  },
  {
   "cell_type": "code",
   "execution_count": 3,
   "id": "14fb428a-68c7-4e0b-b489-9f29fde474ef",
   "metadata": {},
   "outputs": [
    {
     "data": {
      "text/plain": [
       "[1, 4, 9, 16, 25, 36, 605284, 49]"
      ]
     },
     "execution_count": 3,
     "metadata": {},
     "output_type": "execute_result"
    }
   ],
   "source": [
    "l1"
   ]
  },
  {
   "cell_type": "code",
   "execution_count": 4,
   "id": "08a15fa0-1c97-41b6-9071-92e2d0902d16",
   "metadata": {},
   "outputs": [
    {
     "data": {
      "text/plain": [
       "[1, 2, 3, 4, 5, 6, 778, 7]"
      ]
     },
     "execution_count": 4,
     "metadata": {},
     "output_type": "execute_result"
    }
   ],
   "source": [
    "l"
   ]
  },
  {
   "cell_type": "code",
   "execution_count": 5,
   "id": "3c39c7c6-ddf3-46c9-b488-b4ee5283e7ac",
   "metadata": {},
   "outputs": [
    {
     "data": {
      "text/plain": [
       "[1, 4, 9, 16, 25, 36, 605284, 49]"
      ]
     },
     "execution_count": 5,
     "metadata": {},
     "output_type": "execute_result"
    }
   ],
   "source": [
    "[i**2 for i in l]"
   ]
  },
  {
   "cell_type": "code",
   "execution_count": 6,
   "id": "d4b2886a-1bc2-45aa-8284-d2f1d421114f",
   "metadata": {},
   "outputs": [
    {
     "data": {
      "text/plain": [
       "[2, 4, 6, 778]"
      ]
     },
     "execution_count": 6,
     "metadata": {},
     "output_type": "execute_result"
    }
   ],
   "source": [
    "[ i for i in l if i % 2 ==0]"
   ]
  },
  {
   "cell_type": "code",
   "execution_count": 7,
   "id": "0396775c-a9dd-478c-9fb5-5017bbafd151",
   "metadata": {},
   "outputs": [],
   "source": [
    "l1 = [\"upen\",\"kumar\", \"data\", \"master\"]"
   ]
  },
  {
   "cell_type": "code",
   "execution_count": 8,
   "id": "802f4039-566a-4310-8ee1-e772ff1cacce",
   "metadata": {},
   "outputs": [
    {
     "data": {
      "text/plain": [
       "['UPEN', 'KUMAR', 'DATA', 'MASTER']"
      ]
     },
     "execution_count": 8,
     "metadata": {},
     "output_type": "execute_result"
    }
   ],
   "source": [
    "[i.upper() for i in l1]"
   ]
  },
  {
   "cell_type": "code",
   "execution_count": 9,
   "id": "8547ebbb-fbb7-4a01-b68d-c0848a5875ab",
   "metadata": {},
   "outputs": [
    {
     "data": {
      "text/plain": [
       "[1, 2, 3, 4, 5, 6, 778, 7]"
      ]
     },
     "execution_count": 9,
     "metadata": {},
     "output_type": "execute_result"
    }
   ],
   "source": [
    "l"
   ]
  },
  {
   "cell_type": "code",
   "execution_count": 11,
   "id": "ee5c1a43-a8ae-4ed1-8720-21c9524d17a3",
   "metadata": {},
   "outputs": [
    {
     "data": {
      "text/plain": [
       "[1, 4, 9, 16, 25, 36, 605284, 49]"
      ]
     },
     "execution_count": 11,
     "metadata": {},
     "output_type": "execute_result"
    }
   ],
   "source": [
    "list(i **2 for i in l)"
   ]
  },
  {
   "cell_type": "code",
   "execution_count": 12,
   "id": "1e9c1cf7-3913-4870-ae4e-30bbf8d8b000",
   "metadata": {},
   "outputs": [],
   "source": [
    "d = {\"key\":1, \"key2\": 2, \"key3\":3, \"key4\":4}"
   ]
  },
  {
   "cell_type": "code",
   "execution_count": 18,
   "id": "cf7f6746-ee4a-4127-b772-077dbd332da9",
   "metadata": {},
   "outputs": [
    {
     "data": {
      "text/plain": [
       "{'key': 1, 'key2': 4, 'key3': 9, 'key4': 16}"
      ]
     },
     "execution_count": 18,
     "metadata": {},
     "output_type": "execute_result"
    }
   ],
   "source": [
    "{k:v**2for k , v in d.items()}"
   ]
  },
  {
   "cell_type": "code",
   "execution_count": 17,
   "id": "63d50c1b-eee5-4963-85cc-b33e84d61821",
   "metadata": {},
   "outputs": [
    {
     "data": {
      "text/plain": [
       "dict_items([('key', 1), ('key2', 2), ('key3', 3), ('key4', 4)])"
      ]
     },
     "execution_count": 17,
     "metadata": {},
     "output_type": "execute_result"
    }
   ],
   "source": [
    "d.items()"
   ]
  },
  {
   "cell_type": "code",
   "execution_count": 19,
   "id": "277dc897-12a3-4f2a-ba29-5d1adef30874",
   "metadata": {},
   "outputs": [
    {
     "data": {
      "text/plain": [
       "{'key': 1, 'key2': 2, 'key3': 3, 'key4': 4}"
      ]
     },
     "execution_count": 19,
     "metadata": {},
     "output_type": "execute_result"
    }
   ],
   "source": [
    "d"
   ]
  },
  {
   "cell_type": "code",
   "execution_count": 20,
   "id": "542705fc-5a54-4d18-a746-16a45aa0f17b",
   "metadata": {},
   "outputs": [
    {
     "ename": "SyntaxError",
     "evalue": "invalid syntax (2263990944.py, line 1)",
     "output_type": "error",
     "traceback": [
      "\u001b[0;36m  Cell \u001b[0;32mIn [20], line 1\u001b[0;36m\u001b[0m\n\u001b[0;31m    {for k  , v in d.items() if v > 1}\u001b[0m\n\u001b[0m     ^\u001b[0m\n\u001b[0;31mSyntaxError\u001b[0m\u001b[0;31m:\u001b[0m invalid syntax\n"
     ]
    }
   ],
   "source": [
    "{for k  , v in d.items() if v > 1}"
   ]
  },
  {
   "cell_type": "code",
   "execution_count": null,
   "id": "fd765fe8-4b85-49dd-87f7-5297574a08b6",
   "metadata": {},
   "outputs": [],
   "source": []
  }
 ],
 "metadata": {
  "kernelspec": {
   "display_name": "Python 3 (ipykernel)",
   "language": "python",
   "name": "python3"
  },
  "language_info": {
   "codemirror_mode": {
    "name": "ipython",
    "version": 3
   },
   "file_extension": ".py",
   "mimetype": "text/x-python",
   "name": "python",
   "nbconvert_exporter": "python",
   "pygments_lexer": "ipython3",
   "version": "3.10.6"
  }
 },
 "nbformat": 4,
 "nbformat_minor": 5
}
