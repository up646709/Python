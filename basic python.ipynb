{
 "cells": [
  {
   "cell_type": "code",
   "execution_count": 1,
   "id": "1a1a2983-42d7-41ed-b9df-089c7822b55a",
   "metadata": {},
   "outputs": [
    {
     "data": {
      "text/plain": [
       "2"
      ]
     },
     "execution_count": 1,
     "metadata": {},
     "output_type": "execute_result"
    }
   ],
   "source": [
    "1+1"
   ]
  },
  {
   "cell_type": "code",
   "execution_count": 2,
   "id": "cf75f419-8ae3-4aa6-8b9b-dbb5e8d9826c",
   "metadata": {},
   "outputs": [
    {
     "data": {
      "text/plain": [
       "25"
      ]
     },
     "execution_count": 2,
     "metadata": {},
     "output_type": "execute_result"
    }
   ],
   "source": [
    "5*5"
   ]
  },
  {
   "cell_type": "code",
   "execution_count": 4,
   "id": "e10fb9b7-f05f-4608-bdb7-cf8f9f5b54ac",
   "metadata": {},
   "outputs": [
    {
     "data": {
      "text/plain": [
       "6"
      ]
     },
     "execution_count": 4,
     "metadata": {},
     "output_type": "execute_result"
    }
   ],
   "source": [
    "2+4"
   ]
  },
  {
   "cell_type": "code",
   "execution_count": 5,
   "id": "a96ca814-2afc-4aa0-8fc8-7b3c4bce13a8",
   "metadata": {},
   "outputs": [],
   "source": [
    " a = 10"
   ]
  },
  {
   "cell_type": "code",
   "execution_count": 6,
   "id": "c70d843e-82ea-48ff-a363-0149b61255c2",
   "metadata": {},
   "outputs": [
    {
     "data": {
      "text/plain": [
       "10"
      ]
     },
     "execution_count": 6,
     "metadata": {},
     "output_type": "execute_result"
    }
   ],
   "source": [
    "a"
   ]
  },
  {
   "cell_type": "code",
   "execution_count": 7,
   "id": "dd84d131-e6ec-42d7-b6d2-11b24e1fcc28",
   "metadata": {},
   "outputs": [
    {
     "data": {
      "text/plain": [
       "10"
      ]
     },
     "execution_count": 7,
     "metadata": {},
     "output_type": "execute_result"
    }
   ],
   "source": [
    "a"
   ]
  },
  {
   "cell_type": "code",
   "execution_count": 8,
   "id": "cc9ec20c-8711-45dd-b347-0a03b27d9c93",
   "metadata": {},
   "outputs": [],
   "source": [
    "shud = 30"
   ]
  },
  {
   "cell_type": "code",
   "execution_count": 9,
   "id": "c956e58d-c8d8-4b11-84ac-82e3c6b4511f",
   "metadata": {},
   "outputs": [
    {
     "data": {
      "text/plain": [
       "30"
      ]
     },
     "execution_count": 9,
     "metadata": {},
     "output_type": "execute_result"
    }
   ],
   "source": [
    "shud"
   ]
  },
  {
   "cell_type": "code",
   "execution_count": 10,
   "id": "518f093e-6b2e-47b0-bbe8-c123d5339fd3",
   "metadata": {},
   "outputs": [
    {
     "data": {
      "text/plain": [
       "40"
      ]
     },
     "execution_count": 10,
     "metadata": {},
     "output_type": "execute_result"
    }
   ],
   "source": [
    "a+shud"
   ]
  },
  {
   "cell_type": "code",
   "execution_count": 11,
   "id": "7f89969f-809c-4310-bce6-e11d646bc7e6",
   "metadata": {},
   "outputs": [
    {
     "data": {
      "text/plain": [
       "int"
      ]
     },
     "execution_count": 11,
     "metadata": {},
     "output_type": "execute_result"
    }
   ],
   "source": [
    "type(shud)"
   ]
  },
  {
   "cell_type": "code",
   "execution_count": 12,
   "id": "386e5ee3-4c4f-4623-8008-4fc4ac6f0e9d",
   "metadata": {},
   "outputs": [
    {
     "data": {
      "text/plain": [
       "int"
      ]
     },
     "execution_count": 12,
     "metadata": {},
     "output_type": "execute_result"
    }
   ],
   "source": [
    "type(a)"
   ]
  },
  {
   "cell_type": "code",
   "execution_count": 13,
   "id": "8bcd331f-45c6-42ef-8cc6-27433e64df4c",
   "metadata": {},
   "outputs": [],
   "source": [
    "b = 2.09"
   ]
  },
  {
   "cell_type": "code",
   "execution_count": 14,
   "id": "2fa9028e-f6a4-41f4-a849-0a77fd15e764",
   "metadata": {},
   "outputs": [
    {
     "data": {
      "text/plain": [
       "float"
      ]
     },
     "execution_count": 14,
     "metadata": {},
     "output_type": "execute_result"
    }
   ],
   "source": [
    "type(b)"
   ]
  },
  {
   "cell_type": "code",
   "execution_count": 15,
   "id": "b41c7ac8-0774-4fe6-b7d0-a0f4adcbc3f5",
   "metadata": {},
   "outputs": [],
   "source": [
    "c = 4.5\n"
   ]
  },
  {
   "cell_type": "code",
   "execution_count": 16,
   "id": "1413ffd5-baf5-403c-826b-7be53866087e",
   "metadata": {},
   "outputs": [
    {
     "data": {
      "text/plain": [
       "float"
      ]
     },
     "execution_count": 16,
     "metadata": {},
     "output_type": "execute_result"
    }
   ],
   "source": [
    "type(c)"
   ]
  },
  {
   "cell_type": "code",
   "execution_count": 17,
   "id": "7ba8dc93-fd59-4a2b-9320-a28f8c9d080c",
   "metadata": {},
   "outputs": [],
   "source": [
    "d = \"upendra\""
   ]
  },
  {
   "cell_type": "code",
   "execution_count": 18,
   "id": "05a2d22e-b565-45e7-a7cf-c6c143421050",
   "metadata": {},
   "outputs": [
    {
     "data": {
      "text/plain": [
       "'upendra'"
      ]
     },
     "execution_count": 18,
     "metadata": {},
     "output_type": "execute_result"
    }
   ],
   "source": [
    "d"
   ]
  },
  {
   "cell_type": "code",
   "execution_count": 19,
   "id": "62163ae5-d70d-4d45-af68-d8f03f1bb48d",
   "metadata": {},
   "outputs": [
    {
     "data": {
      "text/plain": [
       "str"
      ]
     },
     "execution_count": 19,
     "metadata": {},
     "output_type": "execute_result"
    }
   ],
   "source": [
    "type(d)"
   ]
  },
  {
   "cell_type": "code",
   "execution_count": 20,
   "id": "43cbad2d-6f51-4d10-ac5b-d6d3244a302c",
   "metadata": {},
   "outputs": [],
   "source": [
    "e = \" This is my first tech class\""
   ]
  },
  {
   "cell_type": "code",
   "execution_count": 21,
   "id": "6a36097c-0b61-4560-ac8a-bc5e3a59239d",
   "metadata": {},
   "outputs": [
    {
     "data": {
      "text/plain": [
       "' This is my first tech class'"
      ]
     },
     "execution_count": 21,
     "metadata": {},
     "output_type": "execute_result"
    }
   ],
   "source": [
    "e"
   ]
  },
  {
   "cell_type": "code",
   "execution_count": 22,
   "id": "48b697a5-17b1-41fc-ac3e-0182b72875a8",
   "metadata": {},
   "outputs": [
    {
     "data": {
      "text/plain": [
       "str"
      ]
     },
     "execution_count": 22,
     "metadata": {},
     "output_type": "execute_result"
    }
   ],
   "source": [
    "type(e)"
   ]
  },
  {
   "cell_type": "code",
   "execution_count": 23,
   "id": "f69c66ab-ef04-4b36-80b2-b8e4575f4d87",
   "metadata": {},
   "outputs": [],
   "source": [
    " m = True"
   ]
  },
  {
   "cell_type": "code",
   "execution_count": 24,
   "id": "d2e0eaca-0f75-40cb-9ed1-358f2a127226",
   "metadata": {},
   "outputs": [
    {
     "data": {
      "text/plain": [
       "bool"
      ]
     },
     "execution_count": 24,
     "metadata": {},
     "output_type": "execute_result"
    }
   ],
   "source": [
    "type(m)"
   ]
  },
  {
   "cell_type": "code",
   "execution_count": 25,
   "id": "450efbe6-f156-41fc-bc4b-1ecf20cd43cf",
   "metadata": {},
   "outputs": [],
   "source": [
    "n = False"
   ]
  },
  {
   "cell_type": "code",
   "execution_count": 26,
   "id": "e4d110f3-6384-4f94-9848-90adf019b11f",
   "metadata": {},
   "outputs": [
    {
     "data": {
      "text/plain": [
       "bool"
      ]
     },
     "execution_count": 26,
     "metadata": {},
     "output_type": "execute_result"
    }
   ],
   "source": [
    "type(n)"
   ]
  },
  {
   "cell_type": "code",
   "execution_count": 27,
   "id": "800dd1cd-f2df-402f-b266-599fc83cb42c",
   "metadata": {},
   "outputs": [
    {
     "data": {
      "text/plain": [
       "1"
      ]
     },
     "execution_count": 27,
     "metadata": {},
     "output_type": "execute_result"
    }
   ],
   "source": [
    "m+n"
   ]
  },
  {
   "cell_type": "code",
   "execution_count": 28,
   "id": "0bfd5c82-3901-4924-9798-de1221d0bc11",
   "metadata": {},
   "outputs": [
    {
     "data": {
      "text/plain": [
       "1"
      ]
     },
     "execution_count": 28,
     "metadata": {},
     "output_type": "execute_result"
    }
   ],
   "source": [
    "True * True"
   ]
  },
  {
   "cell_type": "code",
   "execution_count": 29,
   "id": "a77294f9-14fd-4c5f-b807-5a24686fea5d",
   "metadata": {},
   "outputs": [
    {
     "data": {
      "text/plain": [
       "0"
      ]
     },
     "execution_count": 29,
     "metadata": {},
     "output_type": "execute_result"
    }
   ],
   "source": [
    "False * False"
   ]
  },
  {
   "cell_type": "code",
   "execution_count": 30,
   "id": "491611c0-2013-4e14-a0cc-d36a296ca7d6",
   "metadata": {},
   "outputs": [
    {
     "data": {
      "text/plain": [
       "0"
      ]
     },
     "execution_count": 30,
     "metadata": {},
     "output_type": "execute_result"
    }
   ],
   "source": [
    "True * False"
   ]
  },
  {
   "cell_type": "code",
   "execution_count": 31,
   "id": "84d7b58e-4d98-4ce5-86bf-bd28503d08c7",
   "metadata": {},
   "outputs": [
    {
     "ename": "ZeroDivisionError",
     "evalue": "division by zero",
     "output_type": "error",
     "traceback": [
      "\u001b[0;31m---------------------------------------------------------------------------\u001b[0m",
      "\u001b[0;31mZeroDivisionError\u001b[0m                         Traceback (most recent call last)",
      "Cell \u001b[0;32mIn [31], line 1\u001b[0m\n\u001b[0;32m----> 1\u001b[0m \u001b[38;5;28;43;01mTrue\u001b[39;49;00m\u001b[43m \u001b[49m\u001b[38;5;241;43m/\u001b[39;49m\u001b[38;5;28;43;01mFalse\u001b[39;49;00m\n",
      "\u001b[0;31mZeroDivisionError\u001b[0m: division by zero"
     ]
    }
   ],
   "source": [
    "True /False"
   ]
  },
  {
   "cell_type": "code",
   "execution_count": 32,
   "id": "31661ccb-0d97-44c3-92c0-bf304e1f6767",
   "metadata": {},
   "outputs": [],
   "source": [
    " v = 5+5j"
   ]
  },
  {
   "cell_type": "code",
   "execution_count": 33,
   "id": "7af81ef6-ebb5-404b-9a9b-1fa750a505a7",
   "metadata": {},
   "outputs": [
    {
     "data": {
      "text/plain": [
       "(5+5j)"
      ]
     },
     "execution_count": 33,
     "metadata": {},
     "output_type": "execute_result"
    }
   ],
   "source": [
    "v"
   ]
  },
  {
   "cell_type": "code",
   "execution_count": 34,
   "id": "c6946de7-c1b6-4d93-ad6c-2d7d4d8c9ef2",
   "metadata": {},
   "outputs": [
    {
     "data": {
      "text/plain": [
       "complex"
      ]
     },
     "execution_count": 34,
     "metadata": {},
     "output_type": "execute_result"
    }
   ],
   "source": [
    "type(v)"
   ]
  },
  {
   "cell_type": "code",
   "execution_count": 35,
   "id": "c1671d8c-1080-44ef-b4b4-31fdd4d8fa24",
   "metadata": {},
   "outputs": [
    {
     "data": {
      "text/plain": [
       "5.0"
      ]
     },
     "execution_count": 35,
     "metadata": {},
     "output_type": "execute_result"
    }
   ],
   "source": [
    "v.real"
   ]
  },
  {
   "cell_type": "code",
   "execution_count": 36,
   "id": "dcb3f33f-fb31-4d0c-a883-ce426e35d4cd",
   "metadata": {},
   "outputs": [
    {
     "data": {
      "text/plain": [
       "5.0"
      ]
     },
     "execution_count": 36,
     "metadata": {},
     "output_type": "execute_result"
    }
   ],
   "source": [
    "v.imag"
   ]
  },
  {
   "cell_type": "code",
   "execution_count": 37,
   "id": "f2866376-d3ab-43e1-8d79-d5ce43414106",
   "metadata": {},
   "outputs": [
    {
     "data": {
      "text/plain": [
       "5.0"
      ]
     },
     "execution_count": 37,
     "metadata": {},
     "output_type": "execute_result"
    }
   ],
   "source": [
    "v.imag"
   ]
  },
  {
   "cell_type": "code",
   "execution_count": 38,
   "id": "9f9cf0fe-c58b-4cd3-a92a-cfe069f0e946",
   "metadata": {},
   "outputs": [
    {
     "data": {
      "text/plain": [
       "(5+5j)"
      ]
     },
     "execution_count": 38,
     "metadata": {},
     "output_type": "execute_result"
    }
   ],
   "source": [
    "v"
   ]
  },
  {
   "cell_type": "raw",
   "id": "fe1c71b9-ca49-4392-b08c-2953c51a491a",
   "metadata": {},
   "source": [
    "print(\"My Name is upendrs Patel\")"
   ]
  },
  {
   "cell_type": "code",
   "execution_count": 39,
   "id": "5a00c9ae-dc9d-4f15-a093-9a11db80c6ab",
   "metadata": {},
   "outputs": [
    {
     "name": "stdout",
     "output_type": "stream",
     "text": [
      "This is  My name is Upendra Patel\n"
     ]
    }
   ],
   "source": [
    "print(\"This is  My name is Upendra Patel\")"
   ]
  },
  {
   "cell_type": "code",
   "execution_count": 1,
   "id": "e30ec61c-fbf0-4e4f-b3f8-6bb898c5b79d",
   "metadata": {},
   "outputs": [
    {
     "ename": "NameError",
     "evalue": "name 'a' is not defined",
     "output_type": "error",
     "traceback": [
      "\u001b[0;31m---------------------------------------------------------------------------\u001b[0m",
      "\u001b[0;31mNameError\u001b[0m                                 Traceback (most recent call last)",
      "Cell \u001b[0;32mIn [1], line 1\u001b[0m\n\u001b[0;32m----> 1\u001b[0m \u001b[38;5;28mprint\u001b[39m(\u001b[43ma\u001b[49m)\n",
      "\u001b[0;31mNameError\u001b[0m: name 'a' is not defined"
     ]
    }
   ],
   "source": [
    "print(a)"
   ]
  },
  {
   "cell_type": "code",
   "execution_count": 2,
   "id": "6f9f5453-d241-40ca-9af4-15fc50239ddc",
   "metadata": {},
   "outputs": [
    {
     "ename": "NameError",
     "evalue": "name 'a' is not defined",
     "output_type": "error",
     "traceback": [
      "\u001b[0;31m---------------------------------------------------------------------------\u001b[0m",
      "\u001b[0;31mNameError\u001b[0m                                 Traceback (most recent call last)",
      "Cell \u001b[0;32mIn [2], line 1\u001b[0m\n\u001b[0;32m----> 1\u001b[0m \u001b[43ma\u001b[49m\n",
      "\u001b[0;31mNameError\u001b[0m: name 'a' is not defined"
     ]
    }
   ],
   "source": [
    "a"
   ]
  },
  {
   "cell_type": "code",
   "execution_count": 3,
   "id": "dc099d7e-394a-41bf-b671-da1f588a2023",
   "metadata": {},
   "outputs": [],
   "source": [
    "a = 10\n"
   ]
  },
  {
   "cell_type": "code",
   "execution_count": 4,
   "id": "12ef0554-dab0-4bfc-bf08-b4d594186882",
   "metadata": {},
   "outputs": [
    {
     "name": "stdout",
     "output_type": "stream",
     "text": [
      "10\n"
     ]
    }
   ],
   "source": [
    "print(a)"
   ]
  },
  {
   "cell_type": "code",
   "execution_count": 5,
   "id": "3e5dd2db-20d7-4287-a3de-ab14ddc72ef3",
   "metadata": {},
   "outputs": [],
   "source": [
    "s = \"PwSkills\""
   ]
  },
  {
   "cell_type": "code",
   "execution_count": 6,
   "id": "ec90075f-7476-4bfd-8052-6ee96104c08f",
   "metadata": {},
   "outputs": [
    {
     "data": {
      "text/plain": [
       "'PwSkills'"
      ]
     },
     "execution_count": 6,
     "metadata": {},
     "output_type": "execute_result"
    }
   ],
   "source": [
    "s"
   ]
  },
  {
   "cell_type": "code",
   "execution_count": 8,
   "id": "415fd36b-881f-4cd2-8179-1f334a80d25d",
   "metadata": {},
   "outputs": [
    {
     "data": {
      "text/plain": [
       "str"
      ]
     },
     "execution_count": 8,
     "metadata": {},
     "output_type": "execute_result"
    }
   ],
   "source": [
    "type(s)"
   ]
  },
  {
   "cell_type": "code",
   "execution_count": 9,
   "id": "501a64c0-5d05-49ad-9bed-c5a9b16fe3a0",
   "metadata": {},
   "outputs": [
    {
     "data": {
      "text/plain": [
       "'P'"
      ]
     },
     "execution_count": 9,
     "metadata": {},
     "output_type": "execute_result"
    }
   ],
   "source": [
    "s[0]"
   ]
  },
  {
   "cell_type": "code",
   "execution_count": 10,
   "id": "1f3fb0be-08c9-459e-82d3-5212f7412971",
   "metadata": {},
   "outputs": [
    {
     "data": {
      "text/plain": [
       "'PwS'"
      ]
     },
     "execution_count": 10,
     "metadata": {},
     "output_type": "execute_result"
    }
   ],
   "source": [
    "s[0:3]"
   ]
  },
  {
   "cell_type": "code",
   "execution_count": 11,
   "id": "fc021dcc-0e21-4d68-b245-e8bb24fa98c5",
   "metadata": {},
   "outputs": [
    {
     "data": {
      "text/plain": [
       "'k'"
      ]
     },
     "execution_count": 11,
     "metadata": {},
     "output_type": "execute_result"
    }
   ],
   "source": [
    "s[3]"
   ]
  },
  {
   "cell_type": "code",
   "execution_count": 12,
   "id": "0f4ab0bf-d702-43de-be9e-841d372a65dc",
   "metadata": {},
   "outputs": [
    {
     "data": {
      "text/plain": [
       "'s'"
      ]
     },
     "execution_count": 12,
     "metadata": {},
     "output_type": "execute_result"
    }
   ],
   "source": [
    "s[-1]"
   ]
  },
  {
   "cell_type": "code",
   "execution_count": 13,
   "id": "a234dc51-5110-4734-a7d9-0d1c3dc8d6fa",
   "metadata": {},
   "outputs": [
    {
     "data": {
      "text/plain": [
       "'Pw'"
      ]
     },
     "execution_count": 13,
     "metadata": {},
     "output_type": "execute_result"
    }
   ],
   "source": [
    "s[0:2]"
   ]
  },
  {
   "cell_type": "code",
   "execution_count": 14,
   "id": "1a764105-edf1-4d40-80d1-48181a669103",
   "metadata": {},
   "outputs": [
    {
     "data": {
      "text/plain": [
       "'PSil'"
      ]
     },
     "execution_count": 14,
     "metadata": {},
     "output_type": "execute_result"
    }
   ],
   "source": [
    "s[0:8:2]"
   ]
  },
  {
   "cell_type": "code",
   "execution_count": 15,
   "id": "54a93092-3c94-42b4-a5b0-bd4d09696805",
   "metadata": {},
   "outputs": [
    {
     "data": {
      "text/plain": [
       "'PwSkills'"
      ]
     },
     "execution_count": 15,
     "metadata": {},
     "output_type": "execute_result"
    }
   ],
   "source": [
    "s[0:8:1]"
   ]
  },
  {
   "cell_type": "code",
   "execution_count": 16,
   "id": "e7eed0c3-2c60-4f0d-a3e5-8db7d4fe4f2a",
   "metadata": {},
   "outputs": [
    {
     "data": {
      "text/plain": [
       "'PSil'"
      ]
     },
     "execution_count": 16,
     "metadata": {},
     "output_type": "execute_result"
    }
   ],
   "source": [
    "s[::2]"
   ]
  },
  {
   "cell_type": "code",
   "execution_count": 17,
   "id": "e363860d-6e18-4c24-ab70-207d88d362c9",
   "metadata": {},
   "outputs": [
    {
     "data": {
      "text/plain": [
       "'Sl'"
      ]
     },
     "execution_count": 17,
     "metadata": {},
     "output_type": "execute_result"
    }
   ],
   "source": [
    "s[2::3]"
   ]
  },
  {
   "cell_type": "code",
   "execution_count": 18,
   "id": "4bb23f74-cc5c-4c8b-97cc-e44746818da0",
   "metadata": {},
   "outputs": [
    {
     "data": {
      "text/plain": [
       "'sllikSwP'"
      ]
     },
     "execution_count": 18,
     "metadata": {},
     "output_type": "execute_result"
    }
   ],
   "source": [
    "s[::-1]"
   ]
  },
  {
   "cell_type": "code",
   "execution_count": 19,
   "id": "ad91cca5-07a6-4bed-b816-ccb433552772",
   "metadata": {},
   "outputs": [
    {
     "data": {
      "text/plain": [
       "''"
      ]
     },
     "execution_count": 19,
     "metadata": {},
     "output_type": "execute_result"
    }
   ],
   "source": [
    "s[2:7:-1]"
   ]
  },
  {
   "cell_type": "code",
   "execution_count": 20,
   "id": "c0c36488-2052-4d47-91bd-b3da586414e9",
   "metadata": {},
   "outputs": [
    {
     "data": {
      "text/plain": [
       "''"
      ]
     },
     "execution_count": 20,
     "metadata": {},
     "output_type": "execute_result"
    }
   ],
   "source": [
    "s[8:0]"
   ]
  },
  {
   "cell_type": "code",
   "execution_count": 21,
   "id": "35ad37be-e041-4509-ac73-240ed4347e46",
   "metadata": {},
   "outputs": [
    {
     "data": {
      "text/plain": [
       "''"
      ]
     },
     "execution_count": 21,
     "metadata": {},
     "output_type": "execute_result"
    }
   ],
   "source": [
    "s[-2: -8 : 1]"
   ]
  },
  {
   "cell_type": "code",
   "execution_count": 22,
   "id": "e0851c4f-3b8a-493b-961b-30194ea73cdb",
   "metadata": {},
   "outputs": [
    {
     "data": {
      "text/plain": [
       "'sllikSwP'"
      ]
     },
     "execution_count": 22,
     "metadata": {},
     "output_type": "execute_result"
    }
   ],
   "source": [
    "s[:: -1]"
   ]
  },
  {
   "cell_type": "code",
   "execution_count": 23,
   "id": "e8242130-1f02-43c6-ae5b-881d28762418",
   "metadata": {},
   "outputs": [
    {
     "data": {
      "text/plain": [
       "'PwSkills'"
      ]
     },
     "execution_count": 23,
     "metadata": {},
     "output_type": "execute_result"
    }
   ],
   "source": [
    "s[::1]"
   ]
  },
  {
   "cell_type": "code",
   "execution_count": 24,
   "id": "59ae473a-700b-48b6-898e-db966b5e98e0",
   "metadata": {},
   "outputs": [
    {
     "data": {
      "text/plain": [
       "''"
      ]
     },
     "execution_count": 24,
     "metadata": {},
     "output_type": "execute_result"
    }
   ],
   "source": [
    "s[:90:-1]"
   ]
  },
  {
   "cell_type": "code",
   "execution_count": 25,
   "id": "3ba1e3b9-14bc-4437-8dac-fba33cb5b867",
   "metadata": {},
   "outputs": [
    {
     "data": {
      "text/plain": [
       "'sllikSwP'"
      ]
     },
     "execution_count": 25,
     "metadata": {},
     "output_type": "execute_result"
    }
   ],
   "source": [
    "s[: -90:-1]"
   ]
  },
  {
   "cell_type": "code",
   "execution_count": 26,
   "id": "7653658e-a44a-4efa-ac94-80ac7d06bb55",
   "metadata": {},
   "outputs": [],
   "source": [
    "c = 200"
   ]
  },
  {
   "cell_type": "code",
   "execution_count": 27,
   "id": "c290a542-8e90-435b-92b4-1e106eadc196",
   "metadata": {},
   "outputs": [
    {
     "data": {
      "text/plain": [
       "200"
      ]
     },
     "execution_count": 27,
     "metadata": {},
     "output_type": "execute_result"
    }
   ],
   "source": [
    "c"
   ]
  },
  {
   "cell_type": "code",
   "execution_count": 28,
   "id": "e2595632-6a1d-48ab-9871-c291dbcaf20c",
   "metadata": {},
   "outputs": [],
   "source": [
    "s1 = \"this is My string classs\""
   ]
  },
  {
   "cell_type": "code",
   "execution_count": 29,
   "id": "2fd9aa60-123b-439d-bc7b-7d4b8ada9695",
   "metadata": {},
   "outputs": [
    {
     "data": {
      "text/plain": [
       "24"
      ]
     },
     "execution_count": 29,
     "metadata": {},
     "output_type": "execute_result"
    }
   ],
   "source": [
    "len(s1)"
   ]
  },
  {
   "cell_type": "code",
   "execution_count": 30,
   "id": "62efdea8-d71c-4c5a-8211-6166f3c41b7a",
   "metadata": {},
   "outputs": [
    {
     "data": {
      "text/plain": [
       "3"
      ]
     },
     "execution_count": 30,
     "metadata": {},
     "output_type": "execute_result"
    }
   ],
   "source": [
    "s1.find(\"s\")"
   ]
  },
  {
   "cell_type": "code",
   "execution_count": 31,
   "id": "da7335eb-8e36-4dcf-8b7a-e77a71fb2b15",
   "metadata": {},
   "outputs": [
    {
     "data": {
      "text/plain": [
       "2"
      ]
     },
     "execution_count": 31,
     "metadata": {},
     "output_type": "execute_result"
    }
   ],
   "source": [
    "s1.find(\"i\")"
   ]
  },
  {
   "cell_type": "code",
   "execution_count": 32,
   "id": "3912c48a-db5e-4638-aac0-d1e6ee37e8fd",
   "metadata": {},
   "outputs": [
    {
     "data": {
      "text/plain": [
       "2"
      ]
     },
     "execution_count": 32,
     "metadata": {},
     "output_type": "execute_result"
    }
   ],
   "source": [
    "s1.find(\"is\")"
   ]
  },
  {
   "cell_type": "code",
   "execution_count": 33,
   "id": "37ceab10-724e-4998-ba21-a2a4efbe2d4b",
   "metadata": {},
   "outputs": [
    {
     "data": {
      "text/plain": [
       "0"
      ]
     },
     "execution_count": 33,
     "metadata": {},
     "output_type": "execute_result"
    }
   ],
   "source": [
    "s1.count(s)"
   ]
  },
  {
   "cell_type": "code",
   "execution_count": 34,
   "id": "2080c7a3-31df-4f9d-b706-b6910b9b80d6",
   "metadata": {},
   "outputs": [
    {
     "data": {
      "text/plain": [
       "6"
      ]
     },
     "execution_count": 34,
     "metadata": {},
     "output_type": "execute_result"
    }
   ],
   "source": [
    "s1.count(\"s\")"
   ]
  },
  {
   "cell_type": "code",
   "execution_count": 35,
   "id": "5f3d8251-e3a0-4746-a06d-83bc5edc5173",
   "metadata": {},
   "outputs": [
    {
     "data": {
      "text/plain": [
       "'this is My string classs'"
      ]
     },
     "execution_count": 35,
     "metadata": {},
     "output_type": "execute_result"
    }
   ],
   "source": [
    "s1"
   ]
  },
  {
   "cell_type": "code",
   "execution_count": 36,
   "id": "9097013c-999f-4363-a02a-c37f72b4983e",
   "metadata": {},
   "outputs": [
    {
     "data": {
      "text/plain": [
       "'THIS IS MY STRING CLASSS'"
      ]
     },
     "execution_count": 36,
     "metadata": {},
     "output_type": "execute_result"
    }
   ],
   "source": [
    "s1.upper()"
   ]
  },
  {
   "cell_type": "code",
   "execution_count": 37,
   "id": "23eab0a3-c3e4-427c-81f2-b1e481f0b381",
   "metadata": {},
   "outputs": [],
   "source": [
    "s2 = \"THIS IS MY STRING CLASSS\""
   ]
  },
  {
   "cell_type": "code",
   "execution_count": 38,
   "id": "386b3d60-89ec-4e77-9b09-8010cbfdcb85",
   "metadata": {},
   "outputs": [
    {
     "data": {
      "text/plain": [
       "'THIS IS MY STRING CLASSS'"
      ]
     },
     "execution_count": 38,
     "metadata": {},
     "output_type": "execute_result"
    }
   ],
   "source": [
    "s2"
   ]
  },
  {
   "cell_type": "code",
   "execution_count": 39,
   "id": "fc4c65cc-f272-4d3a-b3f2-19f85f9c90fc",
   "metadata": {},
   "outputs": [
    {
     "data": {
      "text/plain": [
       "'this is my string classs'"
      ]
     },
     "execution_count": 39,
     "metadata": {},
     "output_type": "execute_result"
    }
   ],
   "source": [
    "s2.lower()"
   ]
  },
  {
   "cell_type": "code",
   "execution_count": 40,
   "id": "2156cd24-89a1-430c-a068-28a618060cf8",
   "metadata": {},
   "outputs": [
    {
     "data": {
      "text/plain": [
       "'this is My string classs'"
      ]
     },
     "execution_count": 40,
     "metadata": {},
     "output_type": "execute_result"
    }
   ],
   "source": [
    "s1"
   ]
  },
  {
   "cell_type": "code",
   "execution_count": 41,
   "id": "08437491-cbff-46db-8537-3438e1d606e4",
   "metadata": {},
   "outputs": [
    {
     "data": {
      "text/plain": [
       "'This Is My String Classs'"
      ]
     },
     "execution_count": 41,
     "metadata": {},
     "output_type": "execute_result"
    }
   ],
   "source": [
    "s1.title()"
   ]
  },
  {
   "cell_type": "code",
   "execution_count": 43,
   "id": "1fb88a2f-0a62-4be4-882f-e71d94bb6e67",
   "metadata": {},
   "outputs": [
    {
     "data": {
      "text/plain": [
       "'This is my string classs'"
      ]
     },
     "execution_count": 43,
     "metadata": {},
     "output_type": "execute_result"
    }
   ],
   "source": [
    "s1.capitalize()"
   ]
  },
  {
   "cell_type": "code",
   "execution_count": 44,
   "id": "59c359a7-96a5-454e-926f-c8cc1fe605fe",
   "metadata": {},
   "outputs": [
    {
     "data": {
      "text/plain": [
       "'PwSkills'"
      ]
     },
     "execution_count": 44,
     "metadata": {},
     "output_type": "execute_result"
    }
   ],
   "source": [
    "s"
   ]
  },
  {
   "cell_type": "code",
   "execution_count": 46,
   "id": "8ef9af03-cfa1-4a45-a7ad-69f70b276907",
   "metadata": {},
   "outputs": [
    {
     "ename": "TypeError",
     "evalue": "can only concatenate str (not \"int\") to str",
     "output_type": "error",
     "traceback": [
      "\u001b[0;31m---------------------------------------------------------------------------\u001b[0m",
      "\u001b[0;31mTypeError\u001b[0m                                 Traceback (most recent call last)",
      "Cell \u001b[0;32mIn [46], line 1\u001b[0m\n\u001b[0;32m----> 1\u001b[0m \u001b[43ms\u001b[49m\u001b[43m \u001b[49m\u001b[38;5;241;43m+\u001b[39;49m\u001b[43m \u001b[49m\u001b[38;5;241;43m1\u001b[39;49m\n",
      "\u001b[0;31mTypeError\u001b[0m: can only concatenate str (not \"int\") to str"
     ]
    }
   ],
   "source": [
    "s + 1"
   ]
  },
  {
   "cell_type": "code",
   "execution_count": 47,
   "id": "ba101760-f7bf-41b4-bd9a-42cabb639c39",
   "metadata": {},
   "outputs": [
    {
     "data": {
      "text/plain": [
       "'PwSkillsupen'"
      ]
     },
     "execution_count": 47,
     "metadata": {},
     "output_type": "execute_result"
    }
   ],
   "source": [
    "s + \"upen\""
   ]
  },
  {
   "cell_type": "code",
   "execution_count": 48,
   "id": "70fd8a7e-4029-479e-b5e7-332649b46123",
   "metadata": {},
   "outputs": [
    {
     "data": {
      "text/plain": [
       "'PwSkills1'"
      ]
     },
     "execution_count": 48,
     "metadata": {},
     "output_type": "execute_result"
    }
   ],
   "source": [
    "s + '1'"
   ]
  },
  {
   "cell_type": "code",
   "execution_count": 49,
   "id": "2081acfe-717c-4c1e-970a-ee66a7e2c29e",
   "metadata": {},
   "outputs": [
    {
     "data": {
      "text/plain": [
       "'PwSkills3'"
      ]
     },
     "execution_count": 49,
     "metadata": {},
     "output_type": "execute_result"
    }
   ],
   "source": [
    "s + str(3)"
   ]
  },
  {
   "cell_type": "code",
   "execution_count": 50,
   "id": "600bc711-11b5-4b16-8a41-d9e06eb1fe7b",
   "metadata": {},
   "outputs": [
    {
     "data": {
      "text/plain": [
       "'PwSkillsPwSkillsPwSkills'"
      ]
     },
     "execution_count": 50,
     "metadata": {},
     "output_type": "execute_result"
    }
   ],
   "source": [
    "s * 3"
   ]
  },
  {
   "cell_type": "code",
   "execution_count": 51,
   "id": "3c6059b9-e113-4e6d-8059-c1ec51267c4a",
   "metadata": {},
   "outputs": [
    {
     "data": {
      "text/plain": [
       "'patelpatelpatel'"
      ]
     },
     "execution_count": 51,
     "metadata": {},
     "output_type": "execute_result"
    }
   ],
   "source": [
    "\"patel\" *3"
   ]
  },
  {
   "cell_type": "code",
   "execution_count": 53,
   "id": "f1dd5084-0579-4118-beff-96ab867545ee",
   "metadata": {},
   "outputs": [
    {
     "data": {
      "text/plain": [
       "\"don't do copy my class\""
      ]
     },
     "execution_count": 53,
     "metadata": {},
     "output_type": "execute_result"
    }
   ],
   "source": [
    "\"don't do copy my class\""
   ]
  },
  {
   "cell_type": "code",
   "execution_count": null,
   "id": "78b45d62-3484-4ac4-8ec9-4cccf5227920",
   "metadata": {},
   "outputs": [],
   "source": []
  }
 ],
 "metadata": {
  "kernelspec": {
   "display_name": "Python 3 (ipykernel)",
   "language": "python",
   "name": "python3"
  },
  "language_info": {
   "codemirror_mode": {
    "name": "ipython",
    "version": 3
   },
   "file_extension": ".py",
   "mimetype": "text/x-python",
   "name": "python",
   "nbconvert_exporter": "python",
   "pygments_lexer": "ipython3",
   "version": "3.10.6"
  }
 },
 "nbformat": 4,
 "nbformat_minor": 5
}
